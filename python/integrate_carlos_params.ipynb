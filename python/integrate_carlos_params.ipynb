{
 "cells": [
  {
   "cell_type": "code",
   "execution_count": 1,
   "metadata": {},
   "outputs": [
    {
     "name": "stdout",
     "output_type": "stream",
     "text": [
      "WARNING: gams executable '/usr/local/bin/gams' not found.\n"
     ]
    }
   ],
   "source": [
    "import os, os.path\n",
    "import numpy as np\n",
    "from time import time\n",
    "import pandas as pd\n",
    "import math as m\n",
    "import setup_runs as sr\n",
    "import importlib\n",
    "import matplotlib.pyplot as plt\n",
    "import itertools"
   ]
  },
  {
   "cell_type": "code",
   "execution_count": null,
   "metadata": {},
   "outputs": [],
   "source": []
  },
  {
   "cell_type": "code",
   "execution_count": 284,
   "metadata": {},
   "outputs": [],
   "source": [
    "df_params = pd.read_csv(sr.fp_csv_parameter_ranges)\n",
    "dir_car = os.path.join(sr.dir_ref, \"carlos_params\")\n",
    "all_files_car = os.listdir(dir_car)\n",
    "dict_car = {}\n",
    "dict_compare = {}\n",
    "\n",
    "fields_merge = [\"sector\", \"time_series_id\", \"strategy_id\", \"type\", \"parameter\"]\n",
    "df_init_q = True\n",
    "\n",
    "for fn in all_files_car:\n",
    "    k = fn.replace(\"parameter_ranges_\", \"\").replace(\".csv\", \"\")\n",
    "    df_tmp = pd.read_csv(os.path.join(dir_car, fn))\n",
    "    dict_car.update({k: df_tmp})\n",
    "    \n",
    "    if df_init_q:\n",
    "        fields_ord_check = [x for x in df_tmp.columns if (x not in fields_merge) and (x not in [\"normalize_group\", \"parameter_constant_q\"])]\n",
    "        dict_rnm = dict([[x, x + \"_\" + k] for x in fields_ord_check])\n",
    "        df_tmp = df_tmp.rename(columns = dict_rnm)\n",
    "        df_full = df_tmp\n",
    "        df_init_q = False\n",
    "    else:\n",
    "        dict_rnm = dict([[x, x + \"_\" + k] for x in fields_ord_check])\n",
    "        df_tmp = df_tmp.rename(columns = dict_rnm)\n",
    "        df_full = pd.merge(df_full, df_tmp, how = \"left\", on = fields_merge)\n",
    "    fields_ord_add = [dict_rnm[x] for x in fields_ord_check]\n",
    "    \n",
    "    dict_compare.update({k: fields_ord_add})\n",
    "\n",
    "#parameters that vary across them\n",
    "check_params = set({})\n",
    "#parameters that are nearly identical\n",
    "set_close_traj = set({})\n",
    "#do checks\n",
    "for i in range(len(df_full)):\n",
    "    k0 = list(dict_compare.keys())[0]\n",
    "    vec = np.array(df_full[dict_compare[k0]].iloc[i])\n",
    "    param = df_full[\"parameter\"].iloc[i]\n",
    "    ts = df_full[\"time_series_id\"].iloc[i]\n",
    "    s = df_full[\"strategy_id\"].iloc[i]\n",
    "    \n",
    "    proceed_q = True\n",
    "    for fn in dict_compare.keys():\n",
    "        vec_fn = np.array(df_full[dict_compare[fn]].iloc[i])\n",
    "        checkr_q = (False not in (vec_fn == vec))\n",
    "        \n",
    "        if (not checkr_q) and (vec_fn[0] == vec[0]) and (vec_fn[-1] == vec[-1]):\n",
    "            set_close_traj = set_close_traj | set({param})\n",
    "        if False:\n",
    "            if not checkr_q:\n",
    "                print(\"For param '\" + param + \"' and (ts, strat) = (\" + str(ts) + \", \" + str(s) + \"):\\t\\t\" + k0 + \" != \" + fn)\n",
    "                if k0 == fn:\n",
    "                    print(\"vals:\")\n",
    "                    print(vec)\n",
    "                    print(np.array(df_full[dict_compare[fn]].iloc[i]))\n",
    "                    print(vec == np.array(df_full[dict_compare[fn]].iloc[i]))\n",
    "                    print(\"\\n\")\n",
    "        proceed_q = proceed_q & checkr_q\n",
    "        \n",
    "    if not proceed_q:\n",
    "        check_params = check_params | set({param})\n",
    "\n",
    "#some strings to repl        \n",
    "replcers = [\"diesel\", \"solar\", \"electricity\", \"electricitiy\", \"electric\", \"natural_gas\", \"pliqgas\", \"hyb\", \"hydrogen\", \"coal\", \"fuel_oil\", \"gasoline\"]\n",
    "\n",
    "def do_rep(str_in):\n",
    "    s = str_in\n",
    "    for r in replcers:\n",
    "        r2 = \"_\" + r\n",
    "        s = s.replace(r2, \"\")\n",
    "    return s\n",
    "\n",
    "set_params_grouping = set([do_rep(x) for x in list(check_params)])\n",
    "set_traj = set([x for x in check_params if \"residential_emission_fact\" in x])\n",
    "set_grad = check_params - set_traj\n",
    "set_params_grouping = set_params_grouping - set({\"residential_emission_fact\"})\n",
    "\n"
   ]
  },
  {
   "cell_type": "code",
   "execution_count": 325,
   "metadata": {},
   "outputs": [
    {
     "data": {
      "text/plain": [
       "{'copper_heat',\n",
       " 'copper_open_pit_mine',\n",
       " 'other_industries_heat',\n",
       " 'residential_apartment_acs',\n",
       " 'residential_house_acs',\n",
       " 'transport_frac_private',\n",
       " 'transport_frac_truck'}"
      ]
     },
     "execution_count": 325,
     "metadata": {},
     "output_type": "execute_result"
    }
   ],
   "source": [
    "transport_frac_private in "
   ]
  },
  {
   "cell_type": "code",
   "execution_count": 285,
   "metadata": {},
   "outputs": [
    {
     "name": "stderr",
     "output_type": "stream",
     "text": [
      "//anaconda3/lib/python3.7/site-packages/ipykernel_launcher.py:47: RuntimeWarning: divide by zero encountered in true_divide\n",
      "//anaconda3/lib/python3.7/site-packages/ipykernel_launcher.py:47: RuntimeWarning: invalid value encountered in true_divide\n",
      "//anaconda3/lib/python3.7/site-packages/ipykernel_launcher.py:55: RuntimeWarning: divide by zero encountered in true_divide\n"
     ]
    },
    {
     "name": "stdout",
     "output_type": "stream",
     "text": [
      "other_industries_heat_hydrogen\n"
     ]
    }
   ],
   "source": [
    "dict_traj_repl = {\"pessimistic\": \"traj_a\", \"optimistic\": \"traj_b\"}\n",
    "yrs = [str(x) for x in range(2015, 2051)]\n",
    "dict_array_k = {}\n",
    "dict_array_a = {}\n",
    "dict_array_b = {}\n",
    "dict_array_def = {}\n",
    "dict_params_out = {}\n",
    "#initialize dictionary to match parameter to its LHS trial group\n",
    "spg = list(set_params_grouping)\n",
    "spg.sort()\n",
    "dict_spg = dict([[spg[i], i + 1] for i in range(len(spg))])\n",
    "\n",
    "tg_str = \"trajgroup\"\n",
    "\n",
    "for p in set_grad:#{\"residential_apartment_acs_electric\"}:\n",
    "    \n",
    "\n",
    "    dict_tmp = {}\n",
    "    #extract data from each dataframe\n",
    "    for k in dict_car.keys():\n",
    "        array_tmp = dict_car[k][dict_car[k][\"parameter\"] == p].copy().sort_values(by = [\"time_series_id\", \"strategy_id\"])\n",
    "        df_tmp = array_tmp[[x for x in array_tmp.columns if x not in yrs]].reset_index(drop = True)\n",
    "        array_tmp = np.array(array_tmp[yrs])\n",
    "        \n",
    "        if k in dict_traj_repl.keys():\n",
    "            key_new = dict_traj_repl[k]\n",
    "        else:\n",
    "            key_new = k\n",
    "        dict_tmp.update({key_new: array_tmp})\n",
    "        \n",
    "    #build new parameters\n",
    "    array_a = dict_tmp[\"traj_a\"]\n",
    "    array_b = dict_tmp[\"traj_b\"]\n",
    "    array_def = dict_tmp[\"ndc\"]\n",
    "    \n",
    "    #get array of values \n",
    "    array_k = []\n",
    "    \n",
    "    for r in range(len(array_def)):\n",
    "        v_a = array_a[r]\n",
    "        v_b = array_b[r]\n",
    "        v_d = array_def[r]\n",
    "        n = len(v_d) - 1\n",
    "         \n",
    "        if v_d[n] == v_a[n]:\n",
    "            v_d = v_d*1.0001\n",
    "        v_k = np.array((v_d - v_a)/(v_b - v_a))\n",
    "        w = np.where(v_k == np.inf)\n",
    "        v_k[w] = 0\n",
    "        array_k.append(v_k)    \n",
    "    #convert\n",
    "    array_k = np.nan_to_num(np.array(array_k))\n",
    "    #get ranges\n",
    "    range_mix_min = np.zeros(len(array_k))\n",
    "    range_mix_max = 1/np.array(array_k[:,-1])\n",
    "    range_mix_max = np.nan_to_num(range_mix_max)\n",
    "    #check crrent param\n",
    "    for spg in set_params_grouping:\n",
    "        if spg in p:\n",
    "            add_key = p.replace((spg + \"_\"), \"\")\n",
    "            \n",
    "            traj_str_spg = tg_str + \"_\" + str(dict_spg[spg])\n",
    "            traj_str = traj_str_spg + \"-lhs\"\n",
    "            \n",
    "            if spg in dict_array_k.keys():\n",
    "                dict_array_k[spg].update({add_key: array_k})\n",
    "                dict_array_a[spg].update({add_key: array_a})\n",
    "                dict_array_b[spg].update({add_key: array_b})\n",
    "                dict_array_def[spg].update({add_key: array_def}) \n",
    "            else:\n",
    "                dict_array_k[spg] = {add_key: array_k}\n",
    "                dict_array_a[spg] = {add_key: array_a}\n",
    "                dict_array_b[spg] = {add_key: array_b}\n",
    "                dict_array_def[spg] = {add_key: array_def}\n",
    "                \n",
    "                #initialize parameter ranging variable (will only create once)\n",
    "                array_pvar = np.ones(array_k.shape)\n",
    "                df_array_pvar = df_tmp.copy()\n",
    "                df_array_pvar[\"parameter\"] = df_array_pvar[\"parameter\"].replace({p: traj_str})\n",
    "                df_array_pvar = pd.concat([df_array_pvar, pd.DataFrame(array_pvar, columns = yrs)], axis = 1)\n",
    "                #update the constant q\n",
    "                df_array_pvar[\"parameter_constant_q\"] = [1 for i in range(len(df_array_pvar))]\n",
    "                df_array_pvar[\"min_2050\"] = np.zeros(len(df_array_pvar))\n",
    "                df_array_pvar[\"max_2050\"] = np.ones(len(df_array_pvar))\n",
    "                dict_params_out.update({traj_str: df_array_pvar})\n",
    "    ##  build parameter out\n",
    "    \n",
    "    #max trajectory\n",
    "    traj_str_max = traj_str_spg + \"-trajmax_\" + p\n",
    "    df_p_max = pd.concat([df_tmp, pd.DataFrame(array_b, columns = yrs)], axis = 1)\n",
    "    df_p_max[\"min_2050\"] = np.ones(len(df_p_max))\n",
    "    df_p_max[\"max_2050\"] = np.ones(len(df_p_max))\n",
    "    df_p_max[\"parameter\"] = [traj_str_max for i in range(len(df_p_max))]\n",
    "    #min trajectory\n",
    "    traj_str_min = traj_str_spg + \"-trajmin_\" + p\n",
    "    df_p_min = pd.concat([df_tmp, pd.DataFrame(array_a, columns = yrs)], axis = 1)\n",
    "    df_p_min[\"min_2050\"] = np.ones(len(df_p_min))\n",
    "    df_p_min[\"max_2050\"] = np.ones(len(df_p_min))\n",
    "    df_p_min[\"parameter\"] = [traj_str_min for i in range(len(df_p_min))]\n",
    "    #mix trajectory\n",
    "    traj_str_mix = traj_str_spg + \"-trajmix_\" + p\n",
    "    df_p_mix = pd.concat([df_tmp, pd.DataFrame(array_k, columns = yrs)], axis = 1)\n",
    "    df_p_mix[\"min_2050\"] = np.ones(len(df_p_mix))#range_mix_min\n",
    "    df_p_mix[\"max_2050\"] = np.ones(len(df_p_mix))#range_mix_max\n",
    "    df_p_mix[\"parameter_constant_q\"] = np.ones(len(df_p_mix))\n",
    "    df_p_mix[\"parameter\"] = [traj_str_mix for i in range(len(df_p_mix))]\n",
    "    \n",
    "    \n",
    "    if p in set_close_traj:\n",
    "        df_p_out = dict_car[\"ndc\"][dict_car[\"ndc\"][\"parameter\"] == p].copy().sort_values(by = [\"time_series_id\", \"strategy_id\"])\n",
    "        print(p)\n",
    "    else:\n",
    "        #concat\n",
    "        df_p_out = pd.concat([df_p_max, df_p_min, df_p_mix], axis = 0).reset_index(drop = True)\n",
    "    \n",
    "    #add parameter variable out\n",
    "    dict_params_out.update({p: df_p_out})\n",
    "                \n",
    "                \n",
    "        "
   ]
  },
  {
   "cell_type": "code",
   "execution_count": 328,
   "metadata": {},
   "outputs": [],
   "source": [
    "#dict_params_out[\"transport_frac_private_gasoline\"]"
   ]
  },
  {
   "cell_type": "code",
   "execution_count": 332,
   "metadata": {},
   "outputs": [],
   "source": [
    "df_out = [dict_params_out[x] for x in dict_params_out.keys()]\n",
    "df_out = pd.concat(df_out, axis = 0)\n",
    "#parameters to exclude\n",
    "set_trajgroups_excl = set([x for x in df_params[\"parameter\"] if \"trajgroup\" in x])\n",
    "#get parameters\n",
    "df_params = pd.read_csv(sr.fp_csv_parameter_ranges)\n",
    "df_params = df_params[~df_params[\"parameter\"].isin(set(df_out[\"parameter\"]) | set_grad)]\n",
    "df_params = df_params[~df_params[\"parameter\"].isin(set_trajgroups_excl)]\n",
    "#join\n",
    "df_export = pd.concat([df_params, df_out], axis = 0).sort_values(by = [\"sector\", \"type\", \"parameter\", \"time_series_id\", \"strategy_id\"]).reset_index(drop = True)\n",
    "#df_export.to_csv(sr.fp_csv_parameter_ranges, index = None, encoding = \"UTF-8\")\n",
    "#set([x for x in df_export[\"parameter\"] if \"trajgroup\" in x])\n",
    "\n"
   ]
  },
  {
   "cell_type": "code",
   "execution_count": 336,
   "metadata": {},
   "outputs": [
    {
     "data": {
      "text/plain": [
       "(3004, 45)"
      ]
     },
     "execution_count": 336,
     "metadata": {},
     "output_type": "execute_result"
    }
   ],
   "source": [
    "df_export.shape"
   ]
  },
  {
   "cell_type": "code",
   "execution_count": 319,
   "metadata": {},
   "outputs": [
    {
     "data": {
      "text/plain": [
       "(3016, 45)"
      ]
     },
     "execution_count": 319,
     "metadata": {},
     "output_type": "execute_result"
    }
   ],
   "source": [
    "#df_export = df_export[~(df_export[\"parameter\"].isin(set([x for x in df_export[\"parameter\"] if \"trajgroup_8\" in x])))]\n",
    "#[x for x in df_export[\"parameter\"] if \"trajgroup_7\" in x]\n",
    "#df_export.to_csv(sr.fp_csv_parameter_ranges, index = None, encoding = \"UTF-8\")\n",
    "#df_export.shape\n",
    "#set([x for x in df_export[\"parameter\"] if \"trajgroup_1\" in x])\n",
    "#len(set(df_export[\"parameter\"]))\n",
    "df_export.shape\n"
   ]
  },
  {
   "cell_type": "code",
   "execution_count": 231,
   "metadata": {},
   "outputs": [
    {
     "data": {
      "image/png": "[encoded data removed]",
      "text/plain": [
       "<Figure size 432x288 with 1 Axes>"
      ]
     },
     "metadata": {
      "needs_background": "light"
     },
     "output_type": "display_data"
    }
   ],
   "source": [
    "import matplotlib.pyplot as plt\n",
    "y1 = dict_array_a[\"other_industries_heat\"][\"hydrogen\"][0]\n",
    "y2 = dict_array_b[\"other_industries_heat\"][\"hydrogen\"][0]\n",
    "x = list(range(2015, 2051))\n",
    "plt.plot(x, y1)\n",
    "plt.plot(x, y2)\n",
    "plt.show()"
   ]
  },
  {
   "cell_type": "code",
   "execution_count": 236,
   "metadata": {},
   "outputs": [
    {
     "data": {
      "text/plain": [
       "array([ 0.00e+00,  0.00e+00,  0.00e+00,  0.00e+00,  0.00e+00,  0.00e+00,\n",
       "        0.00e+00,  0.00e+00,  0.00e+00,  0.00e+00,  0.00e+00, -1.94e-08,\n",
       "        3.31e-08,  0.00e+00,  0.00e+00,  0.00e+00,  0.00e+00,  0.00e+00,\n",
       "        0.00e+00,  0.00e+00,  0.00e+00,  0.00e+00,  0.00e+00,  0.00e+00,\n",
       "        0.00e+00,  0.00e+00,  0.00e+00,  0.00e+00,  0.00e+00,  0.00e+00,\n",
       "        0.00e+00,  0.00e+00,  0.00e+00,  0.00e+00,  0.00e+00,  0.00e+00])"
      ]
     },
     "execution_count": 236,
     "metadata": {},
     "output_type": "execute_result"
    }
   ],
   "source": [
    "y1-y2"
   ]
  },
  {
   "cell_type": "code",
   "execution_count": null,
   "metadata": {},
   "outputs": [],
   "source": []
  },
  {
   "cell_type": "code",
   "execution_count": null,
   "metadata": {},
   "outputs": [],
   "source": []
  },
  {
   "cell_type": "code",
   "execution_count": null,
   "metadata": {},
   "outputs": [],
   "source": []
  },
  {
   "cell_type": "code",
   "execution_count": null,
   "metadata": {},
   "outputs": [],
   "source": []
  }
 ],
 "metadata": {
  "kernelspec": {
   "display_name": "Python 3",
   "language": "python",
   "name": "python3"
  },
  "language_info": {
   "codemirror_mode": {
    "name": "ipython",
    "version": 3
   },
   "file_extension": ".py",
   "mimetype": "text/x-python",
   "name": "python",
   "nbconvert_exporter": "python",
   "pygments_lexer": "ipython3",
   "version": "3.7.3"
  }
 },
 "nbformat": 4,
 "nbformat_minor": 4
}
