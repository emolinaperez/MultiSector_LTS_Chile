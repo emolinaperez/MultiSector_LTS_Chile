{
 "cells": [
  {
   "cell_type": "code",
   "execution_count": 1,
   "metadata": {},
   "outputs": [
    {
     "name": "stdout",
     "output_type": "stream",
     "text": [
      "WARNING: gams executable '/usr/local/bin/gams' not found.\n"
     ]
    }
   ],
   "source": [
    "import os, os.path\n",
    "import numpy as np\n",
    "from time import time\n",
    "import pandas as pd\n",
    "import math as m\n",
    "import setup_runs as sr\n",
    "import importlib\n",
    "import matplotlib.pyplot as plt\n",
    "import itertools\n",
    "import importlib\n"
   ]
  },
  {
   "cell_type": "code",
   "execution_count": 3,
   "metadata": {},
   "outputs": [],
   "source": [
    "df_attribute_master_id = pd.read_csv(sr.fp_csv_attribute_master)\n",
    "df_attribute_future_id = pd.read_csv(sr.fp_csv_attribute_future)\n",
    "df_out_py = pd.read_csv(sr.fp_csv_output_multi_sector)\n",
    "df_out_an = pd.read_csv(sr.fp_csv_output_multi_sector_analytica)\n",
    "df_ed = pd.read_csv(sr.fp_csv_experimental_design_msec)\n",
    "df_out_merge = pd.merge(df_out_py, df_out_an, how = \"inner\", on = [\"master_id\", \"year\"]).sort_values(by = [\"master_id\", \"year\"]).reset_index(drop = True)\n",
    "df_out_merge[\"total\"] = df_out_merge[[x for x in df_out_merge.columns if \"emissions_total\" in x]].sum(axis = 1)\n",
    "\n",
    "\n",
    "\n"
   ]
  },
  {
   "cell_type": "code",
   "execution_count": 34,
   "metadata": {},
   "outputs": [],
   "source": []
  },
  {
   "cell_type": "code",
   "execution_count": 36,
   "metadata": {},
   "outputs": [],
   "source": [
    "def check_output(field, base_masters = set({221})):\n",
    "    #field = \"commercial_elasticity\"\n",
    "    check_fut = list(set(df_attribute_future_id[df_attribute_future_id[\"parameter\"] == field][\"future_id\"]))\n",
    "    check_fut.sort()\n",
    "    check_mas = list(set(df_attribute_master_id[df_attribute_master_id[\"future_id\"].isin(check_fut)][\"master_id\"])  | set(base_masters))\n",
    "    check_mas.sort()\n",
    "\n",
    "    print(\"Experimental design:\\n\")\n",
    "    print(df_ed[(df_ed[\"master_id\"].isin(check_mas)) & (df_ed[\"year\"].isin([max(df_ed[\"year\"])]))][[\"master_id\", field]])\n",
    "    \n",
    "    print(\"\\n\\n\")\n",
    "    print(\"Results:\\n\")\n",
    "    print(df_out_merge[(df_out_merge[\"master_id\"].isin(check_mas)) & (df_out_merge[\"year\"].isin([max(df_ed[\"year\"])]))][[\"master_id\", \"total\"]])\n",
    "\n",
    "\n",
    "\n"
   ]
  },
  {
   "cell_type": "code",
   "execution_count": 37,
   "metadata": {},
   "outputs": [
    {
     "name": "stdout",
     "output_type": "stream",
     "text": [
      "Experimental design:\n",
      "\n",
      "       master_id  transport_intensity_aviation_kerosene\n",
      "6479         179                               0.412735\n",
      "6515         180                               0.337693\n",
      "7991         221                               0.375214\n",
      "14435        400                               0.412735\n",
      "14471        401                               0.337693\n",
      "22391        621                               0.412735\n",
      "22427        622                               0.337693\n",
      "30347        842                               0.412735\n",
      "30383        843                               0.337693\n",
      "\n",
      "\n",
      "\n",
      "Results:\n",
      "\n",
      "       master_id     total\n",
      "35           221 -4.649098\n",
      "6479         400 -4.866851\n",
      "6515         401 -4.765293\n",
      "14435        842  3.253919\n",
      "14471        843  3.218454\n"
     ]
    }
   ],
   "source": [
    "check_output(\"transport_intensity_aviation_kerosene\", set({221}))"
   ]
  },
  {
   "cell_type": "code",
   "execution_count": 38,
   "metadata": {},
   "outputs": [
    {
     "name": "stdout",
     "output_type": "stream",
     "text": [
      "Experimental design:\n",
      "\n",
      "       master_id  commercial_elasticity\n",
      "143            3               1.147055\n",
      "179            4               0.955879\n",
      "7991         221               0.955879\n",
      "8099         224               1.147055\n",
      "8135         225               0.955879\n",
      "16055        445               1.147055\n",
      "16091        446               0.955879\n",
      "24011        666               1.147055\n",
      "24047        667               0.955879\n",
      "\n",
      "\n",
      "\n",
      "Results:\n",
      "\n",
      "      master_id     total\n",
      "35          221 -4.649098\n",
      "143         224 -4.140800\n",
      "179         225 -4.329967\n",
      "8099        666  3.794774\n",
      "8135        667  3.596118\n"
     ]
    }
   ],
   "source": [
    "#df_attribute_future_id[df_attribute_future_id[\"parameter\"] == \"transport_intensity_aviation_kerosene\"]\n",
    "check_output(\"commercial_elasticity\", set({221}))"
   ]
  },
  {
   "cell_type": "code",
   "execution_count": 65,
   "metadata": {},
   "outputs": [],
   "source": [
    "fs = [\"master_id\", \"design_id\", \"future_id\", \"strategy_id\", \"run_id\", \"time_series_id\", \"year\"]\n",
    "fs2 = list((set(fs) - set({\"year\"})))\n",
    "\n",
    "dict_rnm = dict([[x, x + \"_vary\"] for x in df_ed.columns if (x not in fs)])\n",
    "f0 = list(dict_rnm.keys())\n",
    "f1 = [dict_rnm[x] for x in f0]\n",
    "\n",
    "df_c0 = df_ed[df_ed[\"master_id\"] == 221].copy()\n",
    "df_c1 = df_ed[df_ed[\"master_id\"] == 225].copy().rename(columns = dict_rnm)\n",
    "\n",
    "df_c0 = df_c0[[x for x in df_c0.columns if (x not in fs2)]]\n",
    "df_c1 = df_c1[[x for x in df_c1.columns if (x not in fs2)]]\n",
    "\n",
    "df_c2 = pd.merge(df_c0, df_c1, how = \"inner\", on = [\"year\"])\n",
    "\n",
    "array_0 = np.array(df_c2[f0])\n",
    "array_1 = np.array(df_c2[f1])\n",
    "\n",
    "array_check = abs(array_0 - array_1)\n",
    "\n",
    "\n",
    "\n"
   ]
  },
  {
   "cell_type": "code",
   "execution_count": 66,
   "metadata": {},
   "outputs": [
    {
     "data": {
      "text/plain": [
       "(array([ 5,  6,  7,  8,  9, 10, 11, 12, 13, 14, 15, 16, 17, 18, 19, 20, 21,\n",
       "        22, 23, 24, 25, 26, 27, 28, 29, 30, 31, 32, 33, 34]),\n",
       " array([10, 10, 10, 10, 10, 10, 10, 10, 10, 10, 10, 10, 10, 10, 10, 10, 10,\n",
       "        10, 10, 10, 10, 10, 10, 10, 10, 10, 10, 10, 10, 10]))"
      ]
     },
     "execution_count": 66,
     "metadata": {},
     "output_type": "execute_result"
    }
   ],
   "source": [
    "np.where(array_check > 0)"
   ]
  },
  {
   "cell_type": "code",
   "execution_count": 78,
   "metadata": {},
   "outputs": [
    {
     "data": {
      "image/png": "[encoded data removed]",
      "text/plain": [
       "<Figure size 432x288 with 1 Axes>"
      ]
     },
     "metadata": {
      "needs_background": "light"
     },
     "output_type": "display_data"
    }
   ],
   "source": [
    "#df_c2[[\"commercial_elasticity\", \"commercial_elasticity_vary\"]]\n",
    "el = np.array(df_ed[df_ed[\"master_id\"] == 221][[\"year\", \"commercial_elasticity\"]])\n",
    "\n",
    "x = el[:,0]\n",
    "y = el[:,1]\n",
    "\n",
    "plt.plot(x, y)\n",
    "plt.show()\n",
    "\n"
   ]
  },
  {
   "cell_type": "code",
   "execution_count": 116,
   "metadata": {},
   "outputs": [],
   "source": [
    "df_params = pd.read_csv(sr.fp_csv_parameter_ranges)\n",
    "df_params_carlos = pd.read_csv(sr.fp_csv_parameter_ranges.replace(\".csv\", \"_carlos_20201218.csv\"))\n",
    "params_add = set(df_params_carlos[\"parameter\"]) - set(df_params[\"parameter\"])\n",
    "sectors_carlos = set({\"commercial\", \"residential\", \"industry_and_mining\", \"electricity_generation\", \"public\", \"transportation\"})\n",
    "df_params_carlos = df_params_carlos[df_params_carlos[\"sector\"].isin(sectors_carlos)]\n",
    "df_append = df_params_carlos[df_params_carlos[\"parameter\"].isin(params_add)]\n",
    "df_parcams = pd.concat([df_params, df_append], axis = 0).sort_values(by = [\"sector\", \"type\", \"parameter\", \"time_series_id\", \"strategy_id\"]).reset_index(drop = True)\n",
    "\n",
    "\n"
   ]
  },
  {
   "cell_type": "code",
   "execution_count": 84,
   "metadata": {},
   "outputs": [],
   "source": [
    "dfp_out = df_params[(df_params[\"sector\"] == \"Analytica_forestry\") & (df_params[\"strategy_id\"] == 1)][[\"time_series_id\", \"parameter\", \"min_2050\", \"max_2050\"]].drop_duplicates().sort_values(by = [\"time_series_id\", \"parameter\"]).reset_index(drop = True)\n",
    "dfp_out[\"time_series_id\"] = dfp_out[\"time_series_id\"].replace({0: \"Supuestos Actuales\", 1: \"Supuestos NDC\"})\n",
    "dfp_out.to_csv(\"/Users/jsyme/forestry_parameter_scalars.csv\", index = None, encoding = \"UTF-8\")\n"
   ]
  },
  {
   "cell_type": "code",
   "execution_count": 124,
   "metadata": {},
   "outputs": [],
   "source": [
    "df_parcams.to_csv(sr.fp_csv_parameter_ranges, index = None, encoding = \"UTF-8\")"
   ]
  },
  {
   "cell_type": "code",
   "execution_count": 141,
   "metadata": {},
   "outputs": [],
   "source": [
    "df_lhs_all = pd.read_csv(sr.fp_csv_lhs_table_multi_sector)\n",
    "df_lhs_old = sr.get_archive_run(sr.fp_csv_lhs_table_multi_sector, \"Chile_sector_package_2020_12_21\")\n",
    "df_add = df_lhs_all[[x for x in df_lhs_all.columns if x not in df_lhs_old.columns] + [\"future_id\"]]\n",
    "\n",
    "df_lhs_old_out = pd.merge(df_lhs_old, df_add, how = \"inner\", on = [\"future_id\"]).sort_values(by = [\"future_id\"]).reset_index(drop = True)\n",
    "fields_lhs_out = list(set(df_lhs_old_out.columns) - set({\"future_id\"}))\n",
    "fields_lhs_out.sort()\n",
    "\n",
    "df_lhs_old_out = df_lhs_old_out[[\"future_id\"] + fields_lhs_out] \n",
    "\n",
    "\n",
    "\n",
    "\n",
    "\n",
    "\n",
    "\n",
    "\n",
    "\n",
    "\n"
   ]
  },
  {
   "cell_type": "code",
   "execution_count": 158,
   "metadata": {},
   "outputs": [],
   "source": [
    "df_lhs_old_out.to_csv(sr.fp_csv_lhs_table_multi_sector, index = None, encoding = \"UTF-8\")"
   ]
  },
  {
   "cell_type": "code",
   "execution_count": 156,
   "metadata": {},
   "outputs": [
    {
     "data": {
      "text/plain": [
       "array(['incertidumbre'], dtype=object)"
      ]
     },
     "execution_count": 156,
     "metadata": {},
     "output_type": "execute_result"
    }
   ],
   "source": [
    "df_parcams[df_parcams[\"sector\"].isin(sectors_carlos)][\"type\"].unique()"
   ]
  },
  {
   "cell_type": "code",
   "execution_count": null,
   "metadata": {},
   "outputs": [],
   "source": []
  }
 ],
 "metadata": {
  "kernelspec": {
   "display_name": "Python 3",
   "language": "python",
   "name": "python3"
  },
  "language_info": {
   "codemirror_mode": {
    "name": "ipython",
    "version": 3
   },
   "file_extension": ".py",
   "mimetype": "text/x-python",
   "name": "python",
   "nbconvert_exporter": "python",
   "pygments_lexer": "ipython3",
   "version": "3.7.3"
  }
 },
 "nbformat": 4,
 "nbformat_minor": 4
}
