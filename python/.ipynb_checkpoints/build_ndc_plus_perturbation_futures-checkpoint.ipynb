{
 "cells": [
  {
   "cell_type": "code",
   "execution_count": 1,
   "metadata": {},
   "outputs": [
    {
     "name": "stdout",
     "output_type": "stream",
     "text": [
      "WARNING: gams executable '/usr/local/bin/gams' not found.\n"
     ]
    }
   ],
   "source": [
    "import os, os.path\n",
    "import numpy as np\n",
    "from time import time\n",
    "import pandas as pd\n",
    "import math as m\n",
    "import setup_runs as sr\n",
    "import importlib\n",
    "import matplotlib.pyplot as plt\n",
    "import itertools\n",
    "import importlib"
   ]
  },
  {
   "cell_type": "code",
   "execution_count": 2,
   "metadata": {},
   "outputs": [
    {
     "data": {
      "text/plain": [
       "'/Users/jsyme/Documents/Projects/FY20/SWCHE102-1000/git/MultiSector_LTS_Chile/ref/parameter_ranges_excursion_futures.csv'"
      ]
     },
     "execution_count": 2,
     "metadata": {},
     "output_type": "execute_result"
    }
   ],
   "source": [
    "sr.fp_csv_parameter_ranges_for_excursion"
   ]
  },
  {
   "cell_type": "code",
   "execution_count": 3,
   "metadata": {},
   "outputs": [
    {
     "name": "stdout",
     "output_type": "stream",
     "text": [
      "\n",
      "\n",
      "\n",
      "##############################\n",
      "Merging on:\n",
      "\tsector\n",
      "\ttime_series_id\n",
      "\tparameter\n",
      "##############################\n",
      "\n",
      "\n",
      "\n"
     ]
    }
   ],
   "source": [
    "#initialization information\n",
    "use_archive_q = True\n",
    "#set of futures to keep\n",
    "set_futures_keep = [66, 94, 110, 115, 70, 160]\n",
    "set_futures_keep.sort()\n",
    "#design id to pull futures from\n",
    "d_id_fixed = 0\n",
    "ts_id_fixed = 0\n",
    "\n",
    "\n",
    "arch_read = \"Chile_sector_package_2021_02_20_design_id-1\"\n",
    "#read in some data\n",
    "if use_archive_q:\n",
    "    df_params = sr.get_archive_run(sr.fp_csv_parameter_ranges, arch_read)\n",
    "    df_ed = sr.get_archive_run(sr.fp_csv_experimental_design_msec, arch_read)\n",
    "    df_ed_sv = sr.get_archive_run(sr.fp_csv_experimental_design_msec_single_vals, arch_read)\n",
    "    df_mas = sr.get_archive_run(sr.fp_csv_attribute_master, arch_read)\n",
    "    df_ts = sr.get_archive_run(sr.fp_csv_attribute_time_series, arch_read)\n",
    "else:\n",
    "    df_params = pd.read_csv(sr.fp_csv_parameter_ranges)\n",
    "    df_ed = pd.read_csv(sr.fp_csv_experimental_des)\n",
    "    df_ed_sv = pd.read_csv(sr.fp_csv_experimental_design_msec_single_vals)\n",
    "    df_mas = pd.read_csv(sr.fp_csv_attribute_master)\n",
    "    df_ts = pd.read_csv(sr.fp_csv_attribute_time_series)\n",
    "    \n",
    "\n",
    "df_0 = df_params[df_params[\"strategy_id\"] == 0][[x for x in df_params.columns if x != \"strategy_id\"]].copy()\n",
    "df_1 = df_params[df_params[\"strategy_id\"] == 1][[x for x in df_params.columns if x != \"strategy_id\"]].copy()\n",
    "\n",
    "#set the dictionary to map futures_to new time_series_ids \n",
    "dict_fixedfut_to_ts = dict([[set_futures_keep[i], max(df_ts[\"time_series_id\"]) + i + 1] for i in range(len(set_futures_keep))])\n",
    "\n",
    "fields_merge = [\"sector\", \"time_series_id\", \"parameter\"]\n",
    "fields_data = [\"normalize_group\", \"trajgroup_no_vary_q\", \"parameter_constant_q\", \"min_2050\", \"max_2050\"] + [str(x) for x in range(2015, 2051)]\n",
    "\n",
    "dict_compare = sr.compare_params(df_0, df_1, fields_merge, fields_data)\n",
    "   \n",
    "#set of masters to roll into time series ids\n",
    "df_mas_keep = df_mas[df_mas[\"future_id\"].isin(set_futures_keep)]\n",
    "\n",
    "#loop over\n",
    "    \n",
    "    "
   ]
  },
  {
   "cell_type": "code",
   "execution_count": 6,
   "metadata": {},
   "outputs": [],
   "source": [
    "\n",
    "\n",
    "\n",
    "#parameters to fix among the futures\n",
    "\n",
    "#start with trajgrop 6 parameters (grab all parameters for this future)\n",
    "params_fix = list(sr.get_trajgroup_index(df_params)[\"parameter\"])#[sr.clean_trajgroup_names(x)[\"param\"] for x in set(df_params[\"parameter\"]) if (\"trajgroup\" in x) and (\"lhs\" not in x)]\n",
    "params_fix = set(params_fix)\n",
    "params_fix = params_fix | sr.get_trajmix_params(df_params)\n",
    "params_fix_append = [x for x in list(set(df_params[\"parameter\"])) if (\"trajgroup\" not in x) and not ((\"trajmax\" in x) or (\"trajmin\" in x) or (\"trajmix\" in x))]\n",
    "params_fix = params_fix | set(params_fix_append)\n",
    "#drop single values since they don't vary by future\n",
    "params_fix = params_fix - set(df_ed_sv.columns)\n",
    "params_fix = list(params_fix)\n",
    "params_fix.sort()\n",
    "\n",
    "#get trajgroup index\n",
    "df_trajgroup_index = sr.get_trajgroup_index(df_params)\n",
    "#all trajgroup/trajmix parameters\n",
    "all_trajgroup_params = set(df_trajgroup_index[\"parameter\"])\n",
    "all_trajmix_params = sr.get_trajmix_params(df_params)\n",
    "\n",
    "#diciontary to map params to trajgroup\n",
    "dict_params_to_trajgroup = sr.build_dict(df_trajgroup_index[[\"parameter\", \"trajgroup\"]])\n",
    "\n",
    "\n",
    "df_params_append = [df_params]\n",
    "\n",
    "for fut in set_futures_keep:\n",
    "\n",
    "    #new time series associated with the future that fixes certain parameters\n",
    "    new_ts = dict_fixedfut_to_ts[fut]\n",
    "\n",
    "    dfp = df_params.copy()\n",
    "    #get data that needs to be overwritten\n",
    "    df_pass = df_ed[(df_ed[\"design_id\"] == d_id_fixed) & (df_ed[\"future_id\"] == fut) & (df_ed[\"time_series_id\"] == ts_id_fixed)][[\"year\", \"time_series_id\", \"strategy_id\"] + params_fix]\n",
    "    #parameter data that will be copied\n",
    "    df_params_base = df_params[(df_params[\"time_series_id\"] == ts_id_fixed)].copy()\n",
    "\n",
    "    #any trajectory group params\n",
    "    params_fix_tgtm = list(set(params_fix) & (all_trajgroup_params | all_trajmix_params))\n",
    "    params_fix_tgtm.sort()\n",
    "    #get all ts/strat pairs\n",
    "    all_strats_to_run = list(set(df_pass[\"strategy_id\"]))\n",
    "    all_strats_to_run.sort()\n",
    "\n",
    "    df_new = []\n",
    "    fields_merge = [\"parameter\", \"strategy_id\"]\n",
    "    #loop to integrate new values because I'm lazy\n",
    "    for strat in all_strats_to_run:\n",
    "        #reduce\n",
    "        df_pass_cur = df_pass[(df_pass[\"time_series_id\"] == ts_id_fixed) & (df_pass[\"strategy_id\"] == strat)].copy()\n",
    "        years = np.array(df_pass_cur[\"year\"])\n",
    "        df_pass_cur = df_pass_cur[[x for x in df_pass_cur.columns if (x not in [\"year\", \"time_series_id\", \"strategy_id\"])]]\n",
    "        #check for params in trajgroups\n",
    "        if len(params_fix_tgtm) > 0:\n",
    "            for p in params_fix_tgtm:\n",
    "                if p in all_trajgroup_params:\n",
    "                    group = int(dict_params_to_trajgroup[p])\n",
    "                    str_pre = \"trajgroup_\" + str(group) + \"-\"\n",
    "                else:\n",
    "                    str_pre = \"\"\n",
    "                #strings for the three new parameters\n",
    "                substr_max = str_pre + \"trajmax_\" + p\n",
    "                substr_min = str_pre + \"trajmin_\" + p\n",
    "                substr_mix = str_pre + \"trajmix_\" + p\n",
    "\n",
    "                #add these to dataframe\n",
    "                df_pass_cur[substr_max] = df_pass_cur[p]\n",
    "                df_pass_cur[substr_min] = df_pass_cur[p]\n",
    "                df_pass_cur[substr_mix] = np.ones(len(df_pass_cur))\n",
    "\n",
    "        #drop the parameters the dataframe\n",
    "        df_pass_cur = df_pass_cur[[x for x in df_pass_cur.columns if (x not in params_fix_tgtm)]].transpose()\n",
    "        nms = list(df_pass_cur.columns)\n",
    "        dict_rnm = dict([[nms[i], str(years[i])] for i in range(len(nms))])\n",
    "        df_pass_cur = df_pass_cur.rename(columns = dict_rnm).reset_index().rename(columns = {\"index\": \"parameter\"})\n",
    "        #add information\n",
    "        df_pass_cur[\"time_series_id\"] = [new_ts for i in range(len(df_pass_cur))]\n",
    "        df_pass_cur[\"strategy_id\"] = [strat for i in range(len(df_pass_cur))]\n",
    "\n",
    "        df_new.append(df_pass_cur)\n",
    "\n",
    "    #create new dataframe\n",
    "    df_new = pd.concat(df_new, axis = 0).reset_index(drop = True)\n",
    "\n",
    "\n",
    "    ##  BUILD NEW PARAMETER BLOCK FOR THIS \"time_series_id\"\n",
    "\n",
    "    df_to_append = df_params_base[~df_params_base[\"parameter\"].isin(set(df_new[\"parameter\"]))].copy()\n",
    "    #update the new time series id\n",
    "    df_to_append[\"time_series_id\"] = df_to_append[\"time_series_id\"].replace({ts_id_fixed: new_ts})\n",
    "\n",
    "    df_new_base = df_params_base[df_params_base[\"parameter\"].isin(set(df_new[\"parameter\"]))].copy()\n",
    "    #fields to drop\n",
    "    fields_drop_from_base = [x for x in df_new_base.columns if (x == \"time_series_id\") or x.isnumeric()]\n",
    "    df_new_base = df_new_base[[x for x in df_new_base.columns if x not in fields_drop_from_base]].reset_index(drop = True)\n",
    "    df_new_base = pd.merge(df_new_base, df_new, how = \"left\", on = fields_merge)\n",
    "    #add to the new parameter\n",
    "    df_to_append = pd.concat([df_to_append, df_new_base], axis = 0).reset_index(drop = True)\n",
    "\n",
    "    if len(df_params_append) == 0:\n",
    "        df_params_append.append(df_to_append)\n",
    "    else:\n",
    "        df_params_append.append(df_to_append[df_params_append[0].columns])\n",
    "\n",
    "#add together\n",
    "df_params_append = pd.concat(df_params_append, axis = 0).reset_index(drop = True).sort_values(by = [\"sector\", \"parameter\", \"time_series_id\", \"strategy_id\"])\n",
    "\n",
    "df_params_append.to_csv(sr.fp_csv_parameter_ranges_for_excursion, index = None, encoding = \"UTF-8\")\n",
    "    \n"
   ]
  },
  {
   "cell_type": "code",
   "execution_count": 8,
   "metadata": {},
   "outputs": [
    {
     "data": {
      "text/plain": [
       "{66: 2, 70: 3, 94: 4, 110: 5, 115: 6, 160: 7}"
      ]
     },
     "execution_count": 8,
     "metadata": {},
     "output_type": "execute_result"
    }
   ],
   "source": [
    "dict_fixedfut_to_ts"
   ]
  },
  {
   "cell_type": "code",
   "execution_count": 9,
   "metadata": {},
   "outputs": [
    {
     "data": {
      "text/plain": [
       "{66: 2, 70: 3, 94: 4, 110: 5, 115: 6, 160: 7}"
      ]
     },
     "execution_count": 9,
     "metadata": {},
     "output_type": "execute_result"
    }
   ],
   "source": [
    "dict_fixedfut_to_ts"
   ]
  },
  {
   "cell_type": "code",
   "execution_count": 100,
   "metadata": {},
   "outputs": [],
   "source": [
    "#get trajgroup index\n",
    "df_trajgroup_index = sr.get_trajgroup_index(df_params)\n",
    "#all trajgroup parameters\n",
    "all_trajgroup_params = set(df_trajgroup_index[\"parameter\"])"
   ]
  },
  {
   "cell_type": "code",
   "execution_count": 176,
   "metadata": {},
   "outputs": [
    {
     "data": {
      "text/html": [
       "<div>\n",
       "<style scoped>\n",
       "    .dataframe tbody tr th:only-of-type {\n",
       "        vertical-align: middle;\n",
       "    }\n",
       "\n",
       "    .dataframe tbody tr th {\n",
       "        vertical-align: top;\n",
       "    }\n",
       "\n",
       "    .dataframe thead th {\n",
       "        text-align: right;\n",
       "    }\n",
       "</style>\n",
       "<table border=\"1\" class=\"dataframe\">\n",
       "  <thead>\n",
       "    <tr style=\"text-align: right;\">\n",
       "      <th></th>\n",
       "      <th>time_series_id</th>\n",
       "      <th>time_series_name</th>\n",
       "      <th>time_series_description</th>\n",
       "    </tr>\n",
       "  </thead>\n",
       "  <tbody>\n",
       "    <tr>\n",
       "      <th>0</th>\n",
       "      <td>0</td>\n",
       "      <td>Supuestos Actuales</td>\n",
       "      <td>Latest projections that include changes in GDP...</td>\n",
       "    </tr>\n",
       "    <tr>\n",
       "      <th>1</th>\n",
       "      <td>1</td>\n",
       "      <td>Supuestos NDC</td>\n",
       "      <td>Assumptions associated with the NDC and the mi...</td>\n",
       "    </tr>\n",
       "  </tbody>\n",
       "</table>\n",
       "</div>"
      ],
      "text/plain": [
       "   time_series_id    time_series_name  \\\n",
       "0               0  Supuestos Actuales   \n",
       "1               1       Supuestos NDC   \n",
       "\n",
       "                             time_series_description  \n",
       "0  Latest projections that include changes in GDP...  \n",
       "1  Assumptions associated with the NDC and the mi...  "
      ]
     },
     "execution_count": 176,
     "metadata": {},
     "output_type": "execute_result"
    }
   ],
   "source": [
    "df_ts"
   ]
  },
  {
   "cell_type": "code",
   "execution_count": null,
   "metadata": {},
   "outputs": [],
   "source": []
  },
  {
   "cell_type": "code",
   "execution_count": null,
   "metadata": {},
   "outputs": [],
   "source": [
    "df_out_py = "
   ]
  },
  {
   "cell_type": "code",
   "execution_count": null,
   "metadata": {},
   "outputs": [],
   "source": []
  },
  {
   "cell_type": "code",
   "execution_count": null,
   "metadata": {},
   "outputs": [],
   "source": []
  },
  {
   "cell_type": "code",
   "execution_count": null,
   "metadata": {},
   "outputs": [],
   "source": []
  },
  {
   "cell_type": "code",
   "execution_count": null,
   "metadata": {},
   "outputs": [],
   "source": []
  },
  {
   "cell_type": "code",
   "execution_count": null,
   "metadata": {},
   "outputs": [],
   "source": []
  },
  {
   "cell_type": "code",
   "execution_count": null,
   "metadata": {},
   "outputs": [],
   "source": []
  },
  {
   "cell_type": "code",
   "execution_count": null,
   "metadata": {},
   "outputs": [],
   "source": []
  },
  {
   "cell_type": "code",
   "execution_count": null,
   "metadata": {},
   "outputs": [],
   "source": []
  },
  {
   "cell_type": "code",
   "execution_count": null,
   "metadata": {},
   "outputs": [],
   "source": []
  },
  {
   "cell_type": "code",
   "execution_count": null,
   "metadata": {},
   "outputs": [],
   "source": []
  },
  {
   "cell_type": "code",
   "execution_count": null,
   "metadata": {},
   "outputs": [],
   "source": []
  }
 ],
 "metadata": {
  "kernelspec": {
   "display_name": "Python 3",
   "language": "python",
   "name": "python3"
  },
  "language_info": {
   "codemirror_mode": {
    "name": "ipython",
    "version": 3
   },
   "file_extension": ".py",
   "mimetype": "text/x-python",
   "name": "python",
   "nbconvert_exporter": "python",
   "pygments_lexer": "ipython3",
   "version": "3.8.5"
  }
 },
 "nbformat": 4,
 "nbformat_minor": 4
}
