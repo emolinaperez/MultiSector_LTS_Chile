{
 "cells": [
  {
   "cell_type": "code",
   "execution_count": 3,
   "metadata": {},
   "outputs": [],
   "source": [
    "import setup_runs as sr\n",
    "import pandas as pd\n",
    "import numpy as np\n",
    "import os, os.path\n",
    "import importlib\n",
    "import shutil\n",
    "import matplotlib.pyplot as plt\n"
   ]
  },
  {
   "cell_type": "code",
   "execution_count": 46,
   "metadata": {},
   "outputs": [],
   "source": [
    "\n",
    "#set ade directory on James machine\n",
    "dir_ade_beta = \"/Volumes/[C] syme-j-PVM.hidden/Users/jsyme/Documents/Projects/SWCHE076-1000/ade_beta\"\n",
    "#set tmp\n",
    "dir_ade_beta_tmp = os.path.join(dir_ade_beta, \"tmp\")\n",
    "#get files that are available\n",
    "fn_avail_abt = os.listdir(dir_ade_beta_tmp)\n",
    "#substring identifier\n",
    "ppi_substr = \"pyparams_interface-\"\n",
    "#filter\n",
    "sectors_read = [x.replace(ppi_substr, \"\").replace(\".csv\", \"\") for x in fn_avail_abt if (\".csv\" in x) and (ppi_substr in x) and (\"._\" not in x)]\n",
    "#dictionary\n",
    "dict_ppi = {}\n",
    "#read in \n",
    "for sector in sectors_read:\n",
    "    #\n",
    "    fp_read = os.path.join(dir_ade_beta_tmp, ppi_substr + sector + \".csv\")\n",
    "    #read \n",
    "    df_read = pd.read_csv(fp_read)\n",
    "    #add to the dictionary\n",
    "    dict_ppi.update({sector: df_read})\n",
    "\n",
    "\n",
    "#read in the parameter ranges file\n",
    "df_param_ranges = pd.read_csv(sr.fp_csv_parameter_ranges)\n",
    "df_ts = df_param_ranges[[\"time_series_id\", \"strategy_id\"]].drop_duplicates()"
   ]
  },
  {
   "cell_type": "code",
   "execution_count": 47,
   "metadata": {},
   "outputs": [],
   "source": [
    "#get all parameters\n",
    "df_all_params = []\n",
    "#loop over the keys\n",
    "for sector in dict_ppi.keys():\n",
    "    #get unique parameters to build map\n",
    "    df_tmp = dict_ppi[sector][[\"pyparams\"]].drop_duplicates()\n",
    "    df_tmp[\"sector\"] = [sector for x in range(len(df_tmp))]\n",
    "    df_tmp = df_tmp[[\"sector\", \"pyparams\"]]\n",
    "    #add to output\n",
    "    df_all_params.append(df_tmp)\n",
    "#build dataframe\n",
    "df_all_params = pd.concat(df_all_params, axis = 0)\n",
    "#export temprary file\n",
    "df_all_params.to_csv(\"/Users/jsyme/Desktop/df_all_params.csv\", index = None, encoding = \"UTF-8\")\n",
    "    "
   ]
  },
  {
   "cell_type": "code",
   "execution_count": 43,
   "metadata": {},
   "outputs": [
    {
     "data": {
      "text/html": [
       "<div>\n",
       "<style scoped>\n",
       "    .dataframe tbody tr th:only-of-type {\n",
       "        vertical-align: middle;\n",
       "    }\n",
       "\n",
       "    .dataframe tbody tr th {\n",
       "        vertical-align: top;\n",
       "    }\n",
       "\n",
       "    .dataframe thead th {\n",
       "        text-align: right;\n",
       "    }\n",
       "</style>\n",
       "<table border=\"1\" class=\"dataframe\">\n",
       "  <thead>\n",
       "    <tr style=\"text-align: right;\">\n",
       "      <th></th>\n",
       "      <th>Time</th>\n",
       "      <th>pyparams</th>\n",
       "      <th>value</th>\n",
       "    </tr>\n",
       "  </thead>\n",
       "  <tbody>\n",
       "    <tr>\n",
       "      <th>0</th>\n",
       "      <td>2019</td>\n",
       "      <td>IncertidumbrePIB</td>\n",
       "      <td>2.620306e+11</td>\n",
       "    </tr>\n",
       "    <tr>\n",
       "      <th>1</th>\n",
       "      <td>2019</td>\n",
       "      <td>IncertidumbrePoblacion</td>\n",
       "      <td>1.910722e+07</td>\n",
       "    </tr>\n",
       "    <tr>\n",
       "      <th>2</th>\n",
       "      <td>2019</td>\n",
       "      <td>Recuperacion_BN</td>\n",
       "      <td>0.000000e+00</td>\n",
       "    </tr>\n",
       "    <tr>\n",
       "      <th>3</th>\n",
       "      <td>2019</td>\n",
       "      <td>Especies nativas</td>\n",
       "      <td>6.593289e+06</td>\n",
       "    </tr>\n",
       "    <tr>\n",
       "      <th>4</th>\n",
       "      <td>2019</td>\n",
       "      <td>Especies exóticas</td>\n",
       "      <td>6.604015e+06</td>\n",
       "    </tr>\n",
       "    <tr>\n",
       "      <th>...</th>\n",
       "      <td>...</td>\n",
       "      <td>...</td>\n",
       "      <td>...</td>\n",
       "    </tr>\n",
       "    <tr>\n",
       "      <th>155</th>\n",
       "      <td>2050</td>\n",
       "      <td>IncertidumbrePIB</td>\n",
       "      <td>5.104844e+11</td>\n",
       "    </tr>\n",
       "    <tr>\n",
       "      <th>156</th>\n",
       "      <td>2050</td>\n",
       "      <td>IncertidumbrePoblacion</td>\n",
       "      <td>2.162608e+07</td>\n",
       "    </tr>\n",
       "    <tr>\n",
       "      <th>157</th>\n",
       "      <td>2050</td>\n",
       "      <td>Recuperacion_BN</td>\n",
       "      <td>1.000000e+00</td>\n",
       "    </tr>\n",
       "    <tr>\n",
       "      <th>158</th>\n",
       "      <td>2050</td>\n",
       "      <td>Especies nativas</td>\n",
       "      <td>6.593289e+06</td>\n",
       "    </tr>\n",
       "    <tr>\n",
       "      <th>159</th>\n",
       "      <td>2050</td>\n",
       "      <td>Especies exóticas</td>\n",
       "      <td>6.604015e+06</td>\n",
       "    </tr>\n",
       "  </tbody>\n",
       "</table>\n",
       "<p>160 rows × 3 columns</p>\n",
       "</div>"
      ],
      "text/plain": [
       "     Time                pyparams         value\n",
       "0    2019        IncertidumbrePIB  2.620306e+11\n",
       "1    2019  IncertidumbrePoblacion  1.910722e+07\n",
       "2    2019         Recuperacion_BN  0.000000e+00\n",
       "3    2019        Especies nativas  6.593289e+06\n",
       "4    2019       Especies exóticas  6.604015e+06\n",
       "..    ...                     ...           ...\n",
       "155  2050        IncertidumbrePIB  5.104844e+11\n",
       "156  2050  IncertidumbrePoblacion  2.162608e+07\n",
       "157  2050         Recuperacion_BN  1.000000e+00\n",
       "158  2050        Especies nativas  6.593289e+06\n",
       "159  2050       Especies exóticas  6.604015e+06\n",
       "\n",
       "[160 rows x 3 columns]"
      ]
     },
     "execution_count": 43,
     "metadata": {},
     "output_type": "execute_result"
    }
   ],
   "source": [
    "p = \"especies_exoticas\"\n",
    "sec = \"forestry\"\n",
    "df_sub = df_pp[df_pp[\"parameter\"] == p]\n",
    "secs_sub = list(df_sub[\"sector\"])\n",
    "pyparam = df_sub[df_sub[\"sector\"] == sec][\"pyparams_by_sector\"].iloc[0]\n",
    "dict_ppi[sec]\n"
   ]
  },
  {
   "cell_type": "code",
   "execution_count": 50,
   "metadata": {},
   "outputs": [
    {
     "name": "stdout",
     "output_type": "stream",
     "text": [
      "##  Starting 'Incertidumbre_PrecioBovino' in sector 'agriculture' and param 'precio_bovino'.\n",
      "##  Starting 'pyparams PobRural' in sector 'waste' and param 'poblacion_rural'.\n",
      "##  Starting 'Incertidumbre_PrecioCerdo' in sector 'agriculture' and param 'precio_cerdo'.\n",
      "##  Starting 'Incertidumbre_PIB' in sector 'agriculture' and param 'pib'.\n",
      "##  Starting 'IncertidumbrePIB' in sector 'forestry' and param 'pib'.\n",
      "##  Starting 'pyparam PIB' in sector 'ippu' and param 'pib'.\n",
      "##  Starting 'pyparams PIB' in sector 'waste' and param 'pib'.\n",
      "##  Starting 'Especies nativas' in sector 'forestry' and param 'especies_nativas'.\n",
      "##  Starting 'pyparam PqeVehicular' in sector 'ippu' and param 'pqe_vehicular'.\n",
      "##  Starting 'Incertidumbre_PrecioLeche' in sector 'agriculture' and param 'precio_leche'.\n",
      "##  Starting 'Especies exóticas' in sector 'forestry' and param 'especies_exoticas'.\n",
      "##  Starting 'pyparams PobUrbana' in sector 'waste' and param 'poblacion_urbana'.\n",
      "##  Starting 'Incertidumbre_PrecioPollo' in sector 'agriculture' and param 'precio_pollo'.\n",
      "##  Starting 'Incertidumbre_Poblacion' in sector 'agriculture' and param 'poblacion'.\n",
      "##  Starting 'IncertidumbrePoblacion' in sector 'forestry' and param 'poblacion'.\n",
      "##  Starting 'pyparam Poblacion' in sector 'ippu' and param 'poblacion'.\n",
      "##  Starting 'pyparams Poblacion' in sector 'waste' and param 'poblacion'.\n",
      "##  Starting 'Incertidumbre_PrecioMaiz' in sector 'agriculture' and param 'precio_maiz'.\n"
     ]
    }
   ],
   "source": [
    "df_pp = pd.read_csv(sr.fp_csv_attribute_pyparams).dropna(how = \"any\")\n",
    "#set of all parameters to denote in param_ranges\n",
    "all_params = set(df_pp[\"parameter\"])\n",
    "#initialize dictionary of time series\n",
    "dict_param_ts = {}\n",
    "#loop over parameters\n",
    "for p in all_params:\n",
    "    #get the subset\n",
    "    df_sub = df_pp[df_pp[\"parameter\"] == p]\n",
    "    #get sectors\n",
    "    secs_sub = list(df_sub[\"sector\"])\n",
    "    #loop\n",
    "    for sec in secs_sub:\n",
    "        #get the py param that is stored in analytica\n",
    "        pyparam = df_sub[df_sub[\"sector\"] == sec][\"pyparams_by_sector\"].iloc[0]\n",
    "        print(\"##  Starting '%s' in sector '%s' and param '%s'.\"%(pyparam, sec, p))\n",
    "        #pull from dat\n",
    "        df_vals = dict_ppi[sec][dict_ppi[sec][\"pyparams\"] == pyparam].copy().rename(columns = {\"value\": sec})\n",
    "        df_vals = df_vals[[\"Time\", sec]]\n",
    "        #check\n",
    "        if len(df_vals) > 0:\n",
    "            #check for df\n",
    "            if p in dict_param_ts.keys():\n",
    "                dict_param_ts[p] = pd.merge(dict_param_ts[p], df_vals, how = \"outer\", on = \"Time\")\n",
    "            else:\n",
    "                dict_param_ts[p] = df_vals\n",
    "            \n",
    "        else:\n",
    "            print(\"##  No data found for pypram '%s' in sector '%s' and param '%s'.\\n\"%(pyparam, sec, p))\n",
    "            \n",
    "    #sort\n",
    "    df_pr_out1[p] = dict_param_ts[p].sort_values(by = [\"Time\"])\n",
    "    "
   ]
  },
  {
   "cell_type": "code",
   "execution_count": 158,
   "metadata": {},
   "outputs": [],
   "source": [
    "#initialize data frame\n",
    "init_q = True\n",
    "#set classification for parameters\n",
    "dict_sector_p = {}\n",
    "#loop and build\n",
    "for p in dict_param_ts.keys():\n",
    "    #fields\n",
    "    fields_dat = [x for x in dict_param_ts[p].columns if x != \"Time\"]\n",
    "    \n",
    "    if len(fields_dat) == 1:\n",
    "        field_ext = fields_dat[0]\n",
    "        \n",
    "        #add to dictionary\n",
    "        if p in [\"poblacion_rural\", \"poblacion_urbana\"]:\n",
    "            dict_sector_p.update({p: (\"Analytica_all\")})\n",
    "        else:\n",
    "            dict_sector_p.update({p: (\"Analytica_\" + field_ext)})\n",
    "    else:\n",
    "        #add to dictionary\n",
    "        dict_sector_p.update({p: (\"Analytica_all\")})\n",
    "        #loop over first year to get fields that aren't NA\n",
    "        fe = []\n",
    "        for f in fields_dat:\n",
    "            if not np.isnan(dict_param_ts[p][f].iloc[0]):\n",
    "                fe.append(f)\n",
    "        #check for waste\n",
    "        if \"waste\" in fe:\n",
    "            field_ext = \"waste\"\n",
    "        else:\n",
    "            field_ext = fe[0]\n",
    "    #pull field\n",
    "    df_tmp = dict_param_ts[p][[\"Time\", field_ext]].copy().rename(columns = {field_ext: p})\n",
    "    df_tmp = df_tmp[df_tmp[\"Time\"] >= 2015]\n",
    "    #add to df pr\n",
    "    if init_q:\n",
    "        df_pr = df_tmp.copy()\n",
    "        init_q = False\n",
    "    else:\n",
    "        df_pr = pd.merge(df_pr, df_tmp, how = \"outer\", on = [\"Time\"])\n",
    "#sort\n",
    "df_pr = df_pr.sort_values(by = [\"Time\"]).reset_index(drop = True)\n",
    "#fill with earliest values for variables that have no value before 2019\n",
    "df_pr = df_pr.fillna(method = \"bfill\")\n",
    "#integer fields\n",
    "fields_int = [\"poblacion_rural\", \"poblacion_urbana\", \"poblacion\"]\n",
    "\n",
    "for fi in fields_int:\n",
    "    df_pr[fi] = np.array(df_pr[fi]).astype(int)\n",
    "\n",
    "\n",
    "#get times\n",
    "times = list(df_pr[\"Time\"])\n",
    "#build new dictionary\n",
    "dict_rnm = {}\n",
    "for i in range(len(times)):\n",
    "    dict_rnm.update({i: str(times[i])})\n",
    "#initialize the output\n",
    "df_pr_out0 = df_pr.transpose().reset_index().rename(columns = {\"index\": \"parameter\"})\n",
    "#drop times\n",
    "df_pr_out0 = df_pr_out0[df_pr_out0[\"parameter\"] != \"Time\"].rename(columns = dict_rnm)\n",
    "\n",
    "#add a dummy to facilitate merge\n",
    "df_pr_out0[\"dummy\"] = [1 for x in range(len(df_pr_out0))]\n",
    "df_ts[\"dummy\"] = [1 for x in range(len(df_ts))]\n",
    "#loop to add\n",
    "df_pr_out1 = pd.merge(df_pr_out0, df_ts, how = \"outer\", on = [\"dummy\"])\n",
    "#add the sector\n",
    "df_pr_out1[\"sector\"] = df_pr_out1[\"parameter\"].replace(dict_sector_p)\n",
    "#add the normalize group\n",
    "df_pr_out1[\"normalize_group\"] = [np.nan for x in range(len(df_pr_out1))]\n",
    "#add in the min/max ranges\n",
    "df_pr_out1[\"min_2050\"] = [0.8 for x in range(len(df_pr_out1))]\n",
    "df_pr_out1[\"max_2050\"] = [1.2 for x in range(len(df_pr_out1))]\n",
    "df_pr_out1[\"type\"] = [\"incertidumbre\" for x in range(len(df_pr_out1))]\n",
    "\n",
    "#sort in same order as parameter_ranges.csv\n",
    "df_pr_out1 = df_pr_out1[df_param_ranges.columns]\n",
    "df_pr_out1 = df_pr_out1.sort_values(by = [\"sector\", \"parameter\", \"time_series_id\", \"strategy_id\"])\n",
    "\n",
    "\n",
    "#write output to temporary file\n",
    "df_pr_out1.to_csv(sr.fp_csv_parameter_ranges_for_analytica_base, index = None, encoding = \"UTF-8\")\n",
    "\n",
    "\n",
    "\n",
    "\n",
    "\n",
    "\n"
   ]
  },
  {
   "cell_type": "code",
   "execution_count": 165,
   "metadata": {},
   "outputs": [],
   "source": [
    "df_prin = pd.read_csv(sr.fp_csv_parameter_ranges)\n",
    "df_prin = df_prin.dropna(how = \"all\")\n",
    "for f in [x for x in df_prin.columns if \"_id\" in x]:\n",
    "    df_prin[f] = np.array(df_prin[f]).astype(int)\n",
    "df_prin[\"strategy_id\"] = df_prin[\"strategy_id\"].replace({3: 1})"
   ]
  },
  {
   "cell_type": "code",
   "execution_count": 168,
   "metadata": {},
   "outputs": [],
   "source": [
    "df_prin.to_csv(sr.fp_csv_parameter_ranges, index = None, encoding = \"UTF-8\")"
   ]
  },
  {
   "cell_type": "code",
   "execution_count": 235,
   "metadata": {},
   "outputs": [
    {
     "data": {
      "text/plain": [
       "dict_keys(['precio_bovino', 'poblacion_rural', 'precio_cerdo', 'pib', 'especies_nativas', 'pqe_vehicular', 'precio_leche', 'especies_exoticas', 'poblacion_urbana', 'precio_pollo', 'poblacion', 'precio_maiz'])"
      ]
     },
     "execution_count": 235,
     "metadata": {},
     "output_type": "execute_result"
    }
   ],
   "source": [
    "dict_param_ts.keys()"
   ]
  },
  {
   "cell_type": "code",
   "execution_count": 237,
   "metadata": {},
   "outputs": [
    {
     "data": {
      "text/html": [
       "<div>\n",
       "<style scoped>\n",
       "    .dataframe tbody tr th:only-of-type {\n",
       "        vertical-align: middle;\n",
       "    }\n",
       "\n",
       "    .dataframe tbody tr th {\n",
       "        vertical-align: top;\n",
       "    }\n",
       "\n",
       "    .dataframe thead th {\n",
       "        text-align: right;\n",
       "    }\n",
       "</style>\n",
       "<table border=\"1\" class=\"dataframe\">\n",
       "  <thead>\n",
       "    <tr style=\"text-align: right;\">\n",
       "      <th></th>\n",
       "      <th>Time</th>\n",
       "      <th>agriculture</th>\n",
       "      <th>forestry</th>\n",
       "      <th>ippu</th>\n",
       "      <th>waste</th>\n",
       "    </tr>\n",
       "  </thead>\n",
       "  <tbody>\n",
       "    <tr>\n",
       "      <th>61</th>\n",
       "      <td>1950</td>\n",
       "      <td>NaN</td>\n",
       "      <td>NaN</td>\n",
       "      <td>NaN</td>\n",
       "      <td>0.000000</td>\n",
       "    </tr>\n",
       "    <tr>\n",
       "      <th>62</th>\n",
       "      <td>1951</td>\n",
       "      <td>NaN</td>\n",
       "      <td>NaN</td>\n",
       "      <td>NaN</td>\n",
       "      <td>0.000000</td>\n",
       "    </tr>\n",
       "    <tr>\n",
       "      <th>63</th>\n",
       "      <td>1952</td>\n",
       "      <td>NaN</td>\n",
       "      <td>NaN</td>\n",
       "      <td>NaN</td>\n",
       "      <td>0.000000</td>\n",
       "    </tr>\n",
       "    <tr>\n",
       "      <th>64</th>\n",
       "      <td>1953</td>\n",
       "      <td>NaN</td>\n",
       "      <td>NaN</td>\n",
       "      <td>NaN</td>\n",
       "      <td>0.000000</td>\n",
       "    </tr>\n",
       "    <tr>\n",
       "      <th>65</th>\n",
       "      <td>1954</td>\n",
       "      <td>NaN</td>\n",
       "      <td>NaN</td>\n",
       "      <td>NaN</td>\n",
       "      <td>0.000000</td>\n",
       "    </tr>\n",
       "    <tr>\n",
       "      <th>...</th>\n",
       "      <td>...</td>\n",
       "      <td>...</td>\n",
       "      <td>...</td>\n",
       "      <td>...</td>\n",
       "      <td>...</td>\n",
       "    </tr>\n",
       "    <tr>\n",
       "      <th>27</th>\n",
       "      <td>2046</td>\n",
       "      <td>4.716087e+11</td>\n",
       "      <td>4.716087e+11</td>\n",
       "      <td>471.608701</td>\n",
       "      <td>471.608701</td>\n",
       "    </tr>\n",
       "    <tr>\n",
       "      <th>28</th>\n",
       "      <td>2047</td>\n",
       "      <td>4.810409e+11</td>\n",
       "      <td>4.810409e+11</td>\n",
       "      <td>481.040875</td>\n",
       "      <td>481.040875</td>\n",
       "    </tr>\n",
       "    <tr>\n",
       "      <th>29</th>\n",
       "      <td>2048</td>\n",
       "      <td>4.906617e+11</td>\n",
       "      <td>4.906617e+11</td>\n",
       "      <td>490.661692</td>\n",
       "      <td>490.661692</td>\n",
       "    </tr>\n",
       "    <tr>\n",
       "      <th>30</th>\n",
       "      <td>2049</td>\n",
       "      <td>5.004749e+11</td>\n",
       "      <td>5.004749e+11</td>\n",
       "      <td>500.474926</td>\n",
       "      <td>500.474926</td>\n",
       "    </tr>\n",
       "    <tr>\n",
       "      <th>31</th>\n",
       "      <td>2050</td>\n",
       "      <td>5.104844e+11</td>\n",
       "      <td>5.104844e+11</td>\n",
       "      <td>510.484425</td>\n",
       "      <td>510.484425</td>\n",
       "    </tr>\n",
       "  </tbody>\n",
       "</table>\n",
       "<p>101 rows × 5 columns</p>\n",
       "</div>"
      ],
      "text/plain": [
       "    Time   agriculture      forestry        ippu       waste\n",
       "61  1950           NaN           NaN         NaN    0.000000\n",
       "62  1951           NaN           NaN         NaN    0.000000\n",
       "63  1952           NaN           NaN         NaN    0.000000\n",
       "64  1953           NaN           NaN         NaN    0.000000\n",
       "65  1954           NaN           NaN         NaN    0.000000\n",
       "..   ...           ...           ...         ...         ...\n",
       "27  2046  4.716087e+11  4.716087e+11  471.608701  471.608701\n",
       "28  2047  4.810409e+11  4.810409e+11  481.040875  481.040875\n",
       "29  2048  4.906617e+11  4.906617e+11  490.661692  490.661692\n",
       "30  2049  5.004749e+11  5.004749e+11  500.474926  500.474926\n",
       "31  2050  5.104844e+11  5.104844e+11  510.484425  510.484425\n",
       "\n",
       "[101 rows x 5 columns]"
      ]
     },
     "execution_count": 237,
     "metadata": {},
     "output_type": "execute_result"
    }
   ],
   "source": [
    "dict_param_ts[\"pib\"]"
   ]
  },
  {
   "cell_type": "code",
   "execution_count": 195,
   "metadata": {},
   "outputs": [
    {
     "data": {
      "text/plain": [
       "array([0.62409724, 0.36808129, 0.00224773, 0.76759379])"
      ]
     },
     "execution_count": 195,
     "metadata": {},
     "output_type": "execute_result"
    }
   ],
   "source": [
    "na[[0, 1, 2, 11]]"
   ]
  },
  {
   "cell_type": "code",
   "execution_count": 194,
   "metadata": {},
   "outputs": [
    {
     "data": {
      "text/plain": [
       "array([0.62409724, 0.36808129, 0.00224773, 0.39330408, 0.6806366 ,\n",
       "       0.03117054, 0.58312439, 0.42202262, 0.65980498, 0.70567723,\n",
       "       0.79640044, 0.76759379])"
      ]
     },
     "execution_count": 194,
     "metadata": {},
     "output_type": "execute_result"
    }
   ],
   "source": [
    "na"
   ]
  },
  {
   "cell_type": "code",
   "execution_count": 184,
   "metadata": {},
   "outputs": [],
   "source": [
    "import random"
   ]
  },
  {
   "cell_type": "code",
   "execution_count": 197,
   "metadata": {},
   "outputs": [],
   "source": [
    "l1 = list(range(8)) + list(range(19, 23))"
   ]
  },
  {
   "cell_type": "code",
   "execution_count": 198,
   "metadata": {},
   "outputs": [
    {
     "data": {
      "text/plain": [
       "8"
      ]
     },
     "execution_count": 198,
     "metadata": {},
     "output_type": "execute_result"
    }
   ],
   "source": [
    "l1.index(19)"
   ]
  },
  {
   "cell_type": "code",
   "execution_count": 201,
   "metadata": {},
   "outputs": [
    {
     "data": {
      "text/plain": [
       "19"
      ]
     },
     "execution_count": 201,
     "metadata": {},
     "output_type": "execute_result"
    }
   ],
   "source": [
    "l1[8]"
   ]
  },
  {
   "cell_type": "code",
   "execution_count": 239,
   "metadata": {},
   "outputs": [],
   "source": [
    "arr = np.array([[random.uniform(0, 5) for x in range(4)] for y in range(6)])\n",
    "arr2 = np.array([[round(random.uniform(19, 22)) for x in range(2)] for y in range(2)])\n",
    "ind = [1, 3, 9, 11]\n"
   ]
  },
  {
   "cell_type": "code",
   "execution_count": 224,
   "metadata": {},
   "outputs": [],
   "source": [
    "np.put(arr, ind, arr2)"
   ]
  },
  {
   "cell_type": "code",
   "execution_count": 241,
   "metadata": {},
   "outputs": [
    {
     "data": {
      "text/plain": [
       "array([[ 0.05711977,  5.55362369, 39.86983035, 25.13210225],\n",
       "       [ 3.86708174,  1.14566833, 33.44991263, 36.20697667],\n",
       "       [ 2.38849067,  1.36488665,  3.41561585, 38.31684216],\n",
       "       [ 0.46385273,  6.68942283, 24.77102954, 12.36822671],\n",
       "       [ 2.12238783,  8.33738646, 19.22091035, 39.24243893],\n",
       "       [ 3.77547682,  4.96985813, 33.77458126, 27.59241696]])"
      ]
     },
     "execution_count": 241,
     "metadata": {},
     "output_type": "execute_result"
    }
   ],
   "source": [
    "arr*np.array([1, 2, 8, 8])"
   ]
  },
  {
   "cell_type": "code",
   "execution_count": 244,
   "metadata": {},
   "outputs": [
    {
     "data": {
      "text/plain": [
       "array([[0.05711977, 2.77681185, 4.98372879, 3.14151278],\n",
       "       [3.86708174, 0.57283416, 4.18123908, 4.52587208],\n",
       "       [2.38849067, 0.68244332, 0.42695198, 4.78960527],\n",
       "       [0.46385273, 3.34471141, 3.09637869, 1.54602834],\n",
       "       [2.12238783, 4.16869323, 2.40261379, 4.90530487],\n",
       "       [3.77547682, 2.48492906, 4.22182266, 3.44905212]])"
      ]
     },
     "execution_count": 244,
     "metadata": {},
     "output_type": "execute_result"
    }
   ],
   "source": [
    "arr"
   ]
  },
  {
   "cell_type": "code",
   "execution_count": 229,
   "metadata": {},
   "outputs": [
    {
     "data": {
      "text/html": [
       "<div>\n",
       "<style scoped>\n",
       "    .dataframe tbody tr th:only-of-type {\n",
       "        vertical-align: middle;\n",
       "    }\n",
       "\n",
       "    .dataframe tbody tr th {\n",
       "        vertical-align: top;\n",
       "    }\n",
       "\n",
       "    .dataframe thead th {\n",
       "        text-align: right;\n",
       "    }\n",
       "</style>\n",
       "<table border=\"1\" class=\"dataframe\">\n",
       "  <thead>\n",
       "    <tr style=\"text-align: right;\">\n",
       "      <th></th>\n",
       "      <th>test</th>\n",
       "    </tr>\n",
       "  </thead>\n",
       "  <tbody>\n",
       "    <tr>\n",
       "      <th>0</th>\n",
       "      <td>0.0</td>\n",
       "    </tr>\n",
       "    <tr>\n",
       "      <th>1</th>\n",
       "      <td>1.0</td>\n",
       "    </tr>\n",
       "    <tr>\n",
       "      <th>2</th>\n",
       "      <td>2.0</td>\n",
       "    </tr>\n",
       "    <tr>\n",
       "      <th>3</th>\n",
       "      <td>3.0</td>\n",
       "    </tr>\n",
       "    <tr>\n",
       "      <th>4</th>\n",
       "      <td>4.0</td>\n",
       "    </tr>\n",
       "    <tr>\n",
       "      <th>5</th>\n",
       "      <td>5.0</td>\n",
       "    </tr>\n",
       "    <tr>\n",
       "      <th>6</th>\n",
       "      <td>6.0</td>\n",
       "    </tr>\n",
       "    <tr>\n",
       "      <th>7</th>\n",
       "      <td>7.0</td>\n",
       "    </tr>\n",
       "    <tr>\n",
       "      <th>8</th>\n",
       "      <td>8.0</td>\n",
       "    </tr>\n",
       "    <tr>\n",
       "      <th>9</th>\n",
       "      <td>9.0</td>\n",
       "    </tr>\n",
       "    <tr>\n",
       "      <th>10</th>\n",
       "      <td>10.0</td>\n",
       "    </tr>\n",
       "    <tr>\n",
       "      <th>11</th>\n",
       "      <td>11.0</td>\n",
       "    </tr>\n",
       "    <tr>\n",
       "      <th>14</th>\n",
       "      <td>0.0</td>\n",
       "    </tr>\n",
       "    <tr>\n",
       "      <th>15</th>\n",
       "      <td>1.0</td>\n",
       "    </tr>\n",
       "    <tr>\n",
       "      <th>16</th>\n",
       "      <td>2.0</td>\n",
       "    </tr>\n",
       "    <tr>\n",
       "      <th>17</th>\n",
       "      <td>3.0</td>\n",
       "    </tr>\n",
       "    <tr>\n",
       "      <th>18</th>\n",
       "      <td>4.0</td>\n",
       "    </tr>\n",
       "  </tbody>\n",
       "</table>\n",
       "</div>"
      ],
      "text/plain": [
       "    test\n",
       "0    0.0\n",
       "1    1.0\n",
       "2    2.0\n",
       "3    3.0\n",
       "4    4.0\n",
       "5    5.0\n",
       "6    6.0\n",
       "7    7.0\n",
       "8    8.0\n",
       "9    9.0\n",
       "10  10.0\n",
       "11  11.0\n",
       "14   0.0\n",
       "15   1.0\n",
       "16   2.0\n",
       "17   3.0\n",
       "18   4.0"
      ]
     },
     "execution_count": 229,
     "metadata": {},
     "output_type": "execute_result"
    }
   ],
   "source": [
    "pd.DataFrame(list(range(12)) + [np.nan, np.nan] + list(range(5)), columns = [\"test\"]).dropna()"
   ]
  },
  {
   "cell_type": "code",
   "execution_count": 232,
   "metadata": {},
   "outputs": [],
   "source": [
    "dict_funs = {1: sum, 2: statistics.mean}"
   ]
  },
  {
   "cell_type": "code",
   "execution_count": 231,
   "metadata": {},
   "outputs": [],
   "source": [
    "import statistics"
   ]
  },
  {
   "cell_type": "code",
   "execution_count": 233,
   "metadata": {},
   "outputs": [
    {
     "name": "stdout",
     "output_type": "stream",
     "text": [
      "15\n",
      "2.5\n"
     ]
    }
   ],
   "source": [
    "for k in dict_funs.keys():\n",
    "    print(dict_funs[k](list(range(6))))"
   ]
  },
  {
   "cell_type": "code",
   "execution_count": 249,
   "metadata": {},
   "outputs": [
    {
     "data": {
      "text/plain": [
       "'2015,2016,2017,2018,2019,2020,2021,2022,2023,2024,2025,2026,2027,2028,2029,2030,2031,2032,2033,2034,2035,2036,2037,2038,2039,2040,2041,2042,2043,2044,2045,2046,2047,2048,2049,2050,'"
      ]
     },
     "execution_count": 249,
     "metadata": {},
     "output_type": "execute_result"
    }
   ],
   "source": [
    "((\"%s,\"*36)%tuple(range(2015, 2051)))"
   ]
  },
  {
   "cell_type": "code",
   "execution_count": 246,
   "metadata": {},
   "outputs": [
    {
     "data": {
      "text/plain": [
       "(2015,\n",
       " 2016,\n",
       " 2017,\n",
       " 2018,\n",
       " 2019,\n",
       " 2020,\n",
       " 2021,\n",
       " 2022,\n",
       " 2023,\n",
       " 2024,\n",
       " 2025,\n",
       " 2026,\n",
       " 2027,\n",
       " 2028,\n",
       " 2029,\n",
       " 2030,\n",
       " 2031,\n",
       " 2032,\n",
       " 2033,\n",
       " 2034,\n",
       " 2035,\n",
       " 2036,\n",
       " 2037,\n",
       " 2038,\n",
       " 2039,\n",
       " 2040,\n",
       " 2041,\n",
       " 2042,\n",
       " 2043,\n",
       " 2044,\n",
       " 2045,\n",
       " 2046,\n",
       " 2047,\n",
       " 2048,\n",
       " 2049,\n",
       " 2050)"
      ]
     },
     "execution_count": 246,
     "metadata": {},
     "output_type": "execute_result"
    }
   ],
   "source": []
  },
  {
   "cell_type": "code",
   "execution_count": 255,
   "metadata": {},
   "outputs": [
    {
     "data": {
      "text/plain": [
       "['salida_emisiones.csv',\n",
       " 'salida_emisiones_ge.csv',\n",
       " 'solucion_barras.csv',\n",
       " 'solucion_demanda_barra.csv',\n",
       " 'solucion_demanda_no_suminstrada.csv',\n",
       " 'solucion_detalle_costos.csv',\n",
       " 'solucion_emisiones.csv',\n",
       " 'solucion_emisiones_co2e.csv',\n",
       " 'solucion_emisiones_ge.csv',\n",
       " 'solucion_emisiones_ge_co2e.csv',\n",
       " 'solucion_energia.csv',\n",
       " 'solucion_expansion_lineas.csv',\n",
       " 'solucion_flujos.csv',\n",
       " 'solucion_flujos_bloques.csv',\n",
       " 'solucion_generacion.csv',\n",
       " 'solucion_generacion_anual.csv',\n",
       " 'solucion_lineas.csv',\n",
       " 'solucion_offset.csv',\n",
       " 'solucion_potencia.csv',\n",
       " 'solucion_recaudacion_impuesto.csv',\n",
       " 'solucion_resumen_costos.csv',\n",
       " 'solucion_resumen_costos_sin_tasa.csv',\n",
       " 'solution_generation_sector.csv']"
      ]
     },
     "execution_count": 255,
     "metadata": {},
     "output_type": "execute_result"
    }
   ],
   "source": [
    "ls = os.listdir(os.path.join(os.path.dirname(os.path.dirname(sr.dir_model)), \"ssh\", \"download\", \"pmr_data_output_20201022\"))\n",
    "ls.sort()\n",
    "ls\n",
    "\n"
   ]
  },
  {
   "cell_type": "code",
   "execution_count": 263,
   "metadata": {},
   "outputs": [],
   "source": [
    "dir_out_gams = os.path.join(os.path.dirname(os.path.dirname(sr.dir_model)), \"ssh\", \"download\", \"pmr_data_output_20201022\")\n",
    "\n",
    "df_gams_emissions = pd.read_csv(os.path.join(dir_out_gams, \"solucion_emisiones_ge_co2e.csv\"))\n",
    "\n"
   ]
  },
  {
   "cell_type": "code",
   "execution_count": 268,
   "metadata": {},
   "outputs": [],
   "source": [
    "df_ge = df_gams_emissions[[\"GEI\", \"agno\", \"emisiones\"]].groupby(by = [\"GEI\", \"agno\"]).agg({\"GEI\": \"first\", \"agno\": \"first\", \"emisiones\": \"sum\"})\n",
    "df_ge = df_ge.reset_index(drop = True)\n"
   ]
  },
  {
   "cell_type": "code",
   "execution_count": 273,
   "metadata": {},
   "outputs": [
    {
     "data": {
      "text/html": [
       "<div>\n",
       "<style scoped>\n",
       "    .dataframe tbody tr th:only-of-type {\n",
       "        vertical-align: middle;\n",
       "    }\n",
       "\n",
       "    .dataframe tbody tr th {\n",
       "        vertical-align: top;\n",
       "    }\n",
       "\n",
       "    .dataframe thead th {\n",
       "        text-align: right;\n",
       "    }\n",
       "</style>\n",
       "<table border=\"1\" class=\"dataframe\">\n",
       "  <thead>\n",
       "    <tr style=\"text-align: right;\">\n",
       "      <th></th>\n",
       "      <th>GEI</th>\n",
       "      <th>agno</th>\n",
       "      <th>emisiones</th>\n",
       "    </tr>\n",
       "  </thead>\n",
       "  <tbody>\n",
       "    <tr>\n",
       "      <th>34</th>\n",
       "      <td>CO2</td>\n",
       "      <td>2017</td>\n",
       "      <td>32.18</td>\n",
       "    </tr>\n",
       "    <tr>\n",
       "      <th>35</th>\n",
       "      <td>CO2</td>\n",
       "      <td>2018</td>\n",
       "      <td>34.18</td>\n",
       "    </tr>\n",
       "    <tr>\n",
       "      <th>36</th>\n",
       "      <td>CO2</td>\n",
       "      <td>2019</td>\n",
       "      <td>33.09</td>\n",
       "    </tr>\n",
       "    <tr>\n",
       "      <th>37</th>\n",
       "      <td>CO2</td>\n",
       "      <td>2020</td>\n",
       "      <td>36.23</td>\n",
       "    </tr>\n",
       "    <tr>\n",
       "      <th>38</th>\n",
       "      <td>CO2</td>\n",
       "      <td>2021</td>\n",
       "      <td>29.50</td>\n",
       "    </tr>\n",
       "    <tr>\n",
       "      <th>39</th>\n",
       "      <td>CO2</td>\n",
       "      <td>2022</td>\n",
       "      <td>33.46</td>\n",
       "    </tr>\n",
       "    <tr>\n",
       "      <th>40</th>\n",
       "      <td>CO2</td>\n",
       "      <td>2023</td>\n",
       "      <td>36.33</td>\n",
       "    </tr>\n",
       "    <tr>\n",
       "      <th>41</th>\n",
       "      <td>CO2</td>\n",
       "      <td>2024</td>\n",
       "      <td>31.16</td>\n",
       "    </tr>\n",
       "    <tr>\n",
       "      <th>42</th>\n",
       "      <td>CO2</td>\n",
       "      <td>2025</td>\n",
       "      <td>29.28</td>\n",
       "    </tr>\n",
       "    <tr>\n",
       "      <th>43</th>\n",
       "      <td>CO2</td>\n",
       "      <td>2026</td>\n",
       "      <td>27.82</td>\n",
       "    </tr>\n",
       "    <tr>\n",
       "      <th>44</th>\n",
       "      <td>CO2</td>\n",
       "      <td>2027</td>\n",
       "      <td>26.58</td>\n",
       "    </tr>\n",
       "    <tr>\n",
       "      <th>45</th>\n",
       "      <td>CO2</td>\n",
       "      <td>2028</td>\n",
       "      <td>26.98</td>\n",
       "    </tr>\n",
       "    <tr>\n",
       "      <th>46</th>\n",
       "      <td>CO2</td>\n",
       "      <td>2029</td>\n",
       "      <td>25.49</td>\n",
       "    </tr>\n",
       "    <tr>\n",
       "      <th>47</th>\n",
       "      <td>CO2</td>\n",
       "      <td>2030</td>\n",
       "      <td>23.73</td>\n",
       "    </tr>\n",
       "    <tr>\n",
       "      <th>48</th>\n",
       "      <td>CO2</td>\n",
       "      <td>2031</td>\n",
       "      <td>19.92</td>\n",
       "    </tr>\n",
       "    <tr>\n",
       "      <th>49</th>\n",
       "      <td>CO2</td>\n",
       "      <td>2032</td>\n",
       "      <td>19.28</td>\n",
       "    </tr>\n",
       "    <tr>\n",
       "      <th>50</th>\n",
       "      <td>CO2</td>\n",
       "      <td>2033</td>\n",
       "      <td>18.90</td>\n",
       "    </tr>\n",
       "    <tr>\n",
       "      <th>51</th>\n",
       "      <td>CO2</td>\n",
       "      <td>2034</td>\n",
       "      <td>17.65</td>\n",
       "    </tr>\n",
       "    <tr>\n",
       "      <th>52</th>\n",
       "      <td>CO2</td>\n",
       "      <td>2035</td>\n",
       "      <td>16.98</td>\n",
       "    </tr>\n",
       "    <tr>\n",
       "      <th>53</th>\n",
       "      <td>CO2</td>\n",
       "      <td>2036</td>\n",
       "      <td>15.91</td>\n",
       "    </tr>\n",
       "    <tr>\n",
       "      <th>54</th>\n",
       "      <td>CO2</td>\n",
       "      <td>2037</td>\n",
       "      <td>15.15</td>\n",
       "    </tr>\n",
       "    <tr>\n",
       "      <th>55</th>\n",
       "      <td>CO2</td>\n",
       "      <td>2038</td>\n",
       "      <td>13.07</td>\n",
       "    </tr>\n",
       "    <tr>\n",
       "      <th>56</th>\n",
       "      <td>CO2</td>\n",
       "      <td>2039</td>\n",
       "      <td>10.90</td>\n",
       "    </tr>\n",
       "    <tr>\n",
       "      <th>57</th>\n",
       "      <td>CO2</td>\n",
       "      <td>2040</td>\n",
       "      <td>5.60</td>\n",
       "    </tr>\n",
       "    <tr>\n",
       "      <th>58</th>\n",
       "      <td>CO2</td>\n",
       "      <td>2041</td>\n",
       "      <td>2.81</td>\n",
       "    </tr>\n",
       "    <tr>\n",
       "      <th>59</th>\n",
       "      <td>CO2</td>\n",
       "      <td>2042</td>\n",
       "      <td>2.89</td>\n",
       "    </tr>\n",
       "    <tr>\n",
       "      <th>60</th>\n",
       "      <td>CO2</td>\n",
       "      <td>2043</td>\n",
       "      <td>2.78</td>\n",
       "    </tr>\n",
       "    <tr>\n",
       "      <th>61</th>\n",
       "      <td>CO2</td>\n",
       "      <td>2044</td>\n",
       "      <td>2.76</td>\n",
       "    </tr>\n",
       "    <tr>\n",
       "      <th>62</th>\n",
       "      <td>CO2</td>\n",
       "      <td>2045</td>\n",
       "      <td>2.79</td>\n",
       "    </tr>\n",
       "    <tr>\n",
       "      <th>63</th>\n",
       "      <td>CO2</td>\n",
       "      <td>2046</td>\n",
       "      <td>2.68</td>\n",
       "    </tr>\n",
       "    <tr>\n",
       "      <th>64</th>\n",
       "      <td>CO2</td>\n",
       "      <td>2047</td>\n",
       "      <td>2.68</td>\n",
       "    </tr>\n",
       "    <tr>\n",
       "      <th>65</th>\n",
       "      <td>CO2</td>\n",
       "      <td>2048</td>\n",
       "      <td>2.65</td>\n",
       "    </tr>\n",
       "    <tr>\n",
       "      <th>66</th>\n",
       "      <td>CO2</td>\n",
       "      <td>2049</td>\n",
       "      <td>2.59</td>\n",
       "    </tr>\n",
       "    <tr>\n",
       "      <th>67</th>\n",
       "      <td>CO2</td>\n",
       "      <td>2050</td>\n",
       "      <td>2.61</td>\n",
       "    </tr>\n",
       "  </tbody>\n",
       "</table>\n",
       "</div>"
      ],
      "text/plain": [
       "                               GEI  agno  emisiones\n",
       "34  CO2                             2017      32.18\n",
       "35  CO2                             2018      34.18\n",
       "36  CO2                             2019      33.09\n",
       "37  CO2                             2020      36.23\n",
       "38  CO2                             2021      29.50\n",
       "39  CO2                             2022      33.46\n",
       "40  CO2                             2023      36.33\n",
       "41  CO2                             2024      31.16\n",
       "42  CO2                             2025      29.28\n",
       "43  CO2                             2026      27.82\n",
       "44  CO2                             2027      26.58\n",
       "45  CO2                             2028      26.98\n",
       "46  CO2                             2029      25.49\n",
       "47  CO2                             2030      23.73\n",
       "48  CO2                             2031      19.92\n",
       "49  CO2                             2032      19.28\n",
       "50  CO2                             2033      18.90\n",
       "51  CO2                             2034      17.65\n",
       "52  CO2                             2035      16.98\n",
       "53  CO2                             2036      15.91\n",
       "54  CO2                             2037      15.15\n",
       "55  CO2                             2038      13.07\n",
       "56  CO2                             2039      10.90\n",
       "57  CO2                             2040       5.60\n",
       "58  CO2                             2041       2.81\n",
       "59  CO2                             2042       2.89\n",
       "60  CO2                             2043       2.78\n",
       "61  CO2                             2044       2.76\n",
       "62  CO2                             2045       2.79\n",
       "63  CO2                             2046       2.68\n",
       "64  CO2                             2047       2.68\n",
       "65  CO2                             2048       2.65\n",
       "66  CO2                             2049       2.59\n",
       "67  CO2                             2050       2.61"
      ]
     },
     "execution_count": 273,
     "metadata": {},
     "output_type": "execute_result"
    }
   ],
   "source": [
    "df_ge[df_ge[\"GEI\"] == \"CO2                           \"]"
   ]
  },
  {
   "cell_type": "code",
   "execution_count": 284,
   "metadata": {},
   "outputs": [],
   "source": [
    "dir_out_gams = os.path.join(os.path.dirname(os.path.dirname(sr.dir_model)), \"ssh\", \"download\", \"pmr_data_output_20201022\")\n",
    "\n",
    "df_gams_emissions = pd.read_csv(os.path.join(dir_out_gams, \"solucion_emisiones_ge_co2e.csv\"))\n",
    "\n",
    "#pmr GEIs with non-zero emissions\n",
    "all_emitters = set(df_gams_emissions[df_gams_emissions[\"emisiones\"] > 0][\"GEI\"])\n",
    "df_gams_emissions = df_gams_emissions[df_gams_emissions[\"GEI\"].isin(all_emitters)]\n",
    "df_gams_emissions[\"sf_co2e\"] = df_gams_emissions[\"GEI\"].replace({\"CO2\": 1, \"N2O\": 310})\n",
    "#multiply through\n",
    "df_gams_emissions[\"emissions_co2e\"] = np.array(df_gams_emissions[\"emisiones\"]) * np.array(df_gams_emissions[\"sf_co2e\"])\n",
    "\n",
    "\n"
   ]
  },
  {
   "cell_type": "code",
   "execution_count": 289,
   "metadata": {},
   "outputs": [
    {
     "data": {
      "text/plain": [
       "array(['CO2                           ', 'CO2                           ',\n",
       "       'CO2                           ', ...,\n",
       "       'N2O                           ', 'N2O                           ',\n",
       "       'N2O                           '], dtype=object)"
      ]
     },
     "execution_count": 289,
     "metadata": {},
     "output_type": "execute_result"
    }
   ],
   "source": [
    "np.array(df_gams_emissions[\"sf_co2e\"])"
   ]
  },
  {
   "cell_type": "code",
   "execution_count": 290,
   "metadata": {},
   "outputs": [],
   "source": [
    "#pmr GEIs with non-zero emissions\n",
    "all_emitters = set(df_gams_emissions[df_gams_emissions[\"emisiones\"] > 0][\"GEI\"])\n",
    "df_gams_emissions = df_gams_emissions[df_gams_emissions[\"GEI\"].isin(all_emitters)]\n",
    "df_gams_emissions[\"GEI\"] = [x.replace(\" \", \"\") for x in df_gams_emissions[\"GEI\"]]\n",
    "df_gams_emissions[\"sf_co2e\"] = df_gams_emissions[\"GEI\"].replace({\"CO2\": 1, \"N2O\": 310})\n"
   ]
  },
  {
   "cell_type": "code",
   "execution_count": 291,
   "metadata": {},
   "outputs": [
    {
     "data": {
      "text/html": [
       "<div>\n",
       "<style scoped>\n",
       "    .dataframe tbody tr th:only-of-type {\n",
       "        vertical-align: middle;\n",
       "    }\n",
       "\n",
       "    .dataframe tbody tr th {\n",
       "        vertical-align: top;\n",
       "    }\n",
       "\n",
       "    .dataframe thead th {\n",
       "        text-align: right;\n",
       "    }\n",
       "</style>\n",
       "<table border=\"1\" class=\"dataframe\">\n",
       "  <thead>\n",
       "    <tr style=\"text-align: right;\">\n",
       "      <th></th>\n",
       "      <th>proceso</th>\n",
       "      <th>GEI</th>\n",
       "      <th>agno</th>\n",
       "      <th>emisiones</th>\n",
       "      <th>sf_co2e</th>\n",
       "    </tr>\n",
       "  </thead>\n",
       "  <tbody>\n",
       "    <tr>\n",
       "      <th>0</th>\n",
       "      <td>LOS_CONDORES</td>\n",
       "      <td>CO2</td>\n",
       "      <td>2017</td>\n",
       "      <td>0.0</td>\n",
       "      <td>1</td>\n",
       "    </tr>\n",
       "    <tr>\n",
       "      <th>1</th>\n",
       "      <td>LOS_CONDORES</td>\n",
       "      <td>CO2</td>\n",
       "      <td>2018</td>\n",
       "      <td>0.0</td>\n",
       "      <td>1</td>\n",
       "    </tr>\n",
       "    <tr>\n",
       "      <th>2</th>\n",
       "      <td>LOS_CONDORES</td>\n",
       "      <td>CO2</td>\n",
       "      <td>2019</td>\n",
       "      <td>0.0</td>\n",
       "      <td>1</td>\n",
       "    </tr>\n",
       "    <tr>\n",
       "      <th>3</th>\n",
       "      <td>LOS_CONDORES</td>\n",
       "      <td>CO2</td>\n",
       "      <td>2020</td>\n",
       "      <td>0.0</td>\n",
       "      <td>1</td>\n",
       "    </tr>\n",
       "    <tr>\n",
       "      <th>4</th>\n",
       "      <td>LOS_CONDORES</td>\n",
       "      <td>CO2</td>\n",
       "      <td>2021</td>\n",
       "      <td>0.0</td>\n",
       "      <td>1</td>\n",
       "    </tr>\n",
       "    <tr>\n",
       "      <th>...</th>\n",
       "      <td>...</td>\n",
       "      <td>...</td>\n",
       "      <td>...</td>\n",
       "      <td>...</td>\n",
       "      <td>...</td>\n",
       "    </tr>\n",
       "    <tr>\n",
       "      <th>107809</th>\n",
       "      <td>ALMACENAMIENTO_IV</td>\n",
       "      <td>N2O</td>\n",
       "      <td>2046</td>\n",
       "      <td>0.0</td>\n",
       "      <td>310</td>\n",
       "    </tr>\n",
       "    <tr>\n",
       "      <th>107810</th>\n",
       "      <td>ALMACENAMIENTO_IV</td>\n",
       "      <td>N2O</td>\n",
       "      <td>2047</td>\n",
       "      <td>0.0</td>\n",
       "      <td>310</td>\n",
       "    </tr>\n",
       "    <tr>\n",
       "      <th>107811</th>\n",
       "      <td>ALMACENAMIENTO_IV</td>\n",
       "      <td>N2O</td>\n",
       "      <td>2048</td>\n",
       "      <td>0.0</td>\n",
       "      <td>310</td>\n",
       "    </tr>\n",
       "    <tr>\n",
       "      <th>107812</th>\n",
       "      <td>ALMACENAMIENTO_IV</td>\n",
       "      <td>N2O</td>\n",
       "      <td>2049</td>\n",
       "      <td>0.0</td>\n",
       "      <td>310</td>\n",
       "    </tr>\n",
       "    <tr>\n",
       "      <th>107813</th>\n",
       "      <td>ALMACENAMIENTO_IV</td>\n",
       "      <td>N2O</td>\n",
       "      <td>2050</td>\n",
       "      <td>0.0</td>\n",
       "      <td>310</td>\n",
       "    </tr>\n",
       "  </tbody>\n",
       "</table>\n",
       "<p>35972 rows × 5 columns</p>\n",
       "</div>"
      ],
      "text/plain": [
       "                                         proceso  GEI  agno  emisiones  \\\n",
       "0       LOS_CONDORES                              CO2  2017        0.0   \n",
       "1       LOS_CONDORES                              CO2  2018        0.0   \n",
       "2       LOS_CONDORES                              CO2  2019        0.0   \n",
       "3       LOS_CONDORES                              CO2  2020        0.0   \n",
       "4       LOS_CONDORES                              CO2  2021        0.0   \n",
       "...                                          ...  ...   ...        ...   \n",
       "107809  ALMACENAMIENTO_IV                         N2O  2046        0.0   \n",
       "107810  ALMACENAMIENTO_IV                         N2O  2047        0.0   \n",
       "107811  ALMACENAMIENTO_IV                         N2O  2048        0.0   \n",
       "107812  ALMACENAMIENTO_IV                         N2O  2049        0.0   \n",
       "107813  ALMACENAMIENTO_IV                         N2O  2050        0.0   \n",
       "\n",
       "        sf_co2e  \n",
       "0             1  \n",
       "1             1  \n",
       "2             1  \n",
       "3             1  \n",
       "4             1  \n",
       "...         ...  \n",
       "107809      310  \n",
       "107810      310  \n",
       "107811      310  \n",
       "107812      310  \n",
       "107813      310  \n",
       "\n",
       "[35972 rows x 5 columns]"
      ]
     },
     "execution_count": 291,
     "metadata": {},
     "output_type": "execute_result"
    }
   ],
   "source": [
    " df_gams_emissions"
   ]
  },
  {
   "cell_type": "code",
   "execution_count": 76,
   "metadata": {},
   "outputs": [],
   "source": [
    "del df_params"
   ]
  },
  {
   "cell_type": "code",
   "execution_count": 87,
   "metadata": {},
   "outputs": [],
   "source": [
    "df_params = pd.read_csv(sr.fp_csv_parameter_ranges)\n",
    "df_params = df_params[~df_params[\"parameter\"].isnull()]\n",
    "\n",
    "df_pn = pd.read_csv(\"/Users/jsyme/Downloads/energy 2020_10_03/ref/parameter_ranges.csv\")\n",
    "secs = [\"public\", \"commericial\", \"transport\", \"residential\", \"industry_and_mining\"]\n",
    "#include only new secftors\n",
    "df_pn = df_pn[df_pn[\"sector\"].isin(secs)]\n",
    "df_pn[\"type\"] = df_pn[\"type\"].replace({\"parameter\": \"incertidumbre\"})\n",
    "df_pn[\"strategy_id\"] = df_pn[\"strategy_id\"].replace({3: 1})\n",
    "\n",
    "df_pn = df_pn[(df_pn[\"time_series_id\"] == 0) & (df_pn[\"strategy_id\"].isin([0, 3]))]\n",
    "params_lose = [x for x in set(df_pn[\"parameter\"]) if \"E6T\" in x]\n",
    "df_pn = df_pn[~df_pn[\"parameter\"].isin(params_lose)]\n",
    "df_pn = df_pn[~df_pn[\"parameter\"].isnull()]\n",
    "\n",
    "if set(df_pn[\"strategy_id\"]) == set({0}):\n",
    "    df_pn2 = df_pn.copy()\n",
    "    df_pn2[\"strategy_id\"] = df_pn2[\"strategy_id\"].replace({0: 1})\n",
    "    df_pn = pd.concat([df_pn, df_pn2], axis = 0).reset_index(drop = True)\n",
    "#parameter sets \n",
    "params_cur = set(df_params[df_params[\"sector\"].isin(secs)][\"parameter\"])\n",
    "params_new = set(df_pn[\"parameter\"])\n",
    "\n",
    "#remove parameters that are no longer used\n",
    "df_params = df_params[~df_params.isin(params_cur - params_new)]\n",
    "#then drop those that are in new file\n",
    "df_params_1 = df_params[~df_params[\"parameter\"].isin(df_pn[\"parameter\"])]\n",
    "#add new ones\n",
    "df_params_out = pd.concat([df_params_1, df_pn[df_params_1.columns]], axis = 0).sort_values(by = [\"sector\", \"parameter\", \"time_series_id\", \"strategy_id\"]).reset_index(drop = True)\n",
    "df_params_out = df_params_out[~df_params_out[\"parameter\"].isnull()]\n"
   ]
  },
  {
   "cell_type": "code",
   "execution_count": 86,
   "metadata": {},
   "outputs": [
    {
     "data": {
      "text/plain": [
       "True"
      ]
     },
     "execution_count": 86,
     "metadata": {},
     "output_type": "execute_result"
    }
   ],
   "source": [
    "set(df_pn[\"strategy_id\"]) == set({0})"
   ]
  },
  {
   "cell_type": "code",
   "execution_count": 85,
   "metadata": {},
   "outputs": [
    {
     "data": {
      "text/plain": [
       "array([0])"
      ]
     },
     "execution_count": 85,
     "metadata": {},
     "output_type": "execute_result"
    }
   ],
   "source": [
    "df_pn[\"strategy_id\"].unique()\n"
   ]
  },
  {
   "cell_type": "code",
   "execution_count": 89,
   "metadata": {},
   "outputs": [
    {
     "data": {
      "text/plain": [
       "224"
      ]
     },
     "execution_count": 89,
     "metadata": {},
     "output_type": "execute_result"
    }
   ],
   "source": [
    "len(set(df_params_out[\"parameter\"]))"
   ]
  },
  {
   "cell_type": "code",
   "execution_count": 92,
   "metadata": {},
   "outputs": [],
   "source": [
    "df_params_out.to_csv(sr.fp_csv_parameter_ranges, index = None, encoding = \"UTF-8\")"
   ]
  },
  {
   "cell_type": "code",
   "execution_count": null,
   "metadata": {},
   "outputs": [],
   "source": []
  }
 ],
 "metadata": {
  "kernelspec": {
   "display_name": "Python 3",
   "language": "python",
   "name": "python3"
  },
  "language_info": {
   "codemirror_mode": {
    "name": "ipython",
    "version": 3
   },
   "file_extension": ".py",
   "mimetype": "text/x-python",
   "name": "python",
   "nbconvert_exporter": "python",
   "pygments_lexer": "ipython3",
   "version": "3.7.3"
  }
 },
 "nbformat": 4,
 "nbformat_minor": 4
}
