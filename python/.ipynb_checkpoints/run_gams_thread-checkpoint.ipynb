{
 "cells": [
  {
   "cell_type": "code",
   "execution_count": 1,
   "metadata": {},
   "outputs": [
    {
     "name": "stdout",
     "output_type": "stream",
     "text": [
      "WARNING: gams executable '/usr/local/bin/gams' not found.\n"
     ]
    }
   ],
   "source": [
    "import setup_runs as sr\n",
    "import pandas as pd\n",
    "import numpy as np\n",
    "import os, os.path\n",
    "import importlib\n",
    "import shutil\n",
    "import matplotlib.pyplot as plt\n",
    "import gams\n",
    "import multiprocessing as mp\n"
   ]
  },
  {
   "cell_type": "code",
   "execution_count": 14,
   "metadata": {},
   "outputs": [],
   "source": [
    "dir_workspace_gams = \"/Applications/GAMS30.3/GAMS Terminal.app/Contents/MacOS\""
   ]
  },
  {
   "cell_type": "code",
   "execution_count": 18,
   "metadata": {},
   "outputs": [
    {
     "name": "stdout",
     "output_type": "stream",
     "text": [
      "Scenario bmult=0.6:\n",
      "  Modelstatus: 1\n",
      "  Solvestatus: 1\n",
      "  Obj: 92.20499999999998\n",
      "Scenario bmult=0.8:\n",
      "  Modelstatus: 1\n",
      "  Solvestatus: 1\n",
      "  Obj: 122.94\n",
      "Scenario bmult=0.9:\n",
      "  Modelstatus: 1\n",
      "  Solvestatus: 1\n",
      "  Obj: 138.3075\n",
      "Scenario bmult=1.0:\n",
      "  Modelstatus: 1\n",
      "  Solvestatus: 1\n",
      "  Obj: 153.675\n",
      "Scenario bmult=1.1:\n",
      "  Modelstatus: 4\n",
      "  Solvestatus: 1\n",
      "  Obj: 169.04250000000002\n",
      "Scenario bmult=0.7:\n",
      "  Modelstatus: 1\n",
      "  Solvestatus: 1\n",
      "  Obj: 107.57249999999999\n",
      "Scenario bmult=1.2:\n",
      "  Modelstatus: 4\n",
      "  Solvestatus: 1\n",
      "  Obj: 184.40999999999997\n",
      "Scenario bmult=1.3:\n",
      "  Modelstatus: 4\n",
      "  Solvestatus: 1\n",
      "  Obj: 199.77750000000003\n"
     ]
    }
   ],
   "source": [
    "'''\n",
    "@file\n",
    "This is the 8th model in a series of tutorial examples. Here we show:\n",
    "  - How to use a queue to solve multiple GamsModelInstances in parallel\n",
    "  - Note that the CPython implementation will not run threads in parallel\n",
    "    due to its Global Interpreter Lock. See the transport8a example that\n",
    "    uses the multiprocessing module for parallel computation.\n",
    "'''\n",
    "\n",
    "from __future__ import print_function\n",
    "from gams import *\n",
    "import threading\n",
    "import sys\n",
    "\n",
    "def get_model_text():\n",
    "    return '''\n",
    "  Sets\n",
    "       i   canning plants   / seattle, san-diego /\n",
    "       j   markets          / new-york, chicago, topeka / ;\n",
    "\n",
    "  Parameters\n",
    "\n",
    "       a(i)  capacity of plant i in cases\n",
    "         /    seattle     350\n",
    "              san-diego   600  /\n",
    "\n",
    "       b(j)  demand at market j in cases\n",
    "         /    new-york    325\n",
    "              chicago     300\n",
    "              topeka      275  / ;\n",
    "\n",
    "  Table d(i,j)  distance in thousands of miles\n",
    "                    new-york       chicago      topeka\n",
    "      seattle          2.5           1.7          1.8\n",
    "      san-diego        2.5           1.8          1.4  ;\n",
    "\n",
    "  Scalar f      freight in dollars per case per thousand miles  /90/ ;\n",
    "  Scalar bmult  demand multiplier /1/;\n",
    "\n",
    "  Parameter c(i,j)  transport cost in thousands of dollars per case ;\n",
    "\n",
    "            c(i,j) = f * d(i,j) / 1000 ;\n",
    "\n",
    "  Variables\n",
    "       x(i,j)  shipment quantities in cases\n",
    "       z       total transportation costs in thousands of dollars ;\n",
    "\n",
    "  Positive Variable x ;\n",
    "\n",
    "  Equations\n",
    "       cost        define objective function\n",
    "       supply(i)   observe supply limit at plant i\n",
    "       demand(j)   satisfy demand at market j ;\n",
    "\n",
    "  cost ..        z  =e=  sum((i,j), c(i,j)*x(i,j)) ;\n",
    "\n",
    "  supply(i) ..   sum(j, x(i,j))  =l=  a(i) ;\n",
    "\n",
    "  demand(j) ..   sum(i, x(i,j))  =g=  bmult*b(j) ;\n",
    "\n",
    "  Model transport /all/ ;\n",
    "'''\n",
    "\n",
    "\n",
    "def scen_solve(workspace, checkpoint, bmult_list, list_lock, io_lock):\n",
    "    list_lock.acquire()\n",
    "    mi = checkpoint.add_modelinstance()\n",
    "    list_lock.release()\n",
    "    bmult = mi.sync_db.add_parameter(\"bmult\", 0, \"demand multiplier\")\n",
    "    opt = ws.add_options()\n",
    "    opt.all_model_types = \"cplexd\"\n",
    "\n",
    "    # instantiate the GAMSModelInstance and pass a model definition and GAMSModifier to declare bmult mutable\n",
    "    mi.instantiate(\"transport use lp min z\", GamsModifier(bmult), opt)\n",
    "    bmult.add_record().value = 1.0\n",
    "\n",
    "    while True:\n",
    "        # dynamically get a bmult value from the queue instead of passing it to the different threads at creation time\n",
    "        list_lock.acquire()\n",
    "        if 0 == len(bmult_list):\n",
    "            list_lock.release()\n",
    "            return\n",
    "        b = bmult_list.pop()\n",
    "        list_lock.release()\n",
    "        bmult.first_record().value = b\n",
    "        mi.solve()\n",
    "\n",
    "        # we need to make the ouput a critical section to avoid messed up report informations\n",
    "        io_lock.acquire()\n",
    "        print(\"Scenario bmult=\" + str(b) + \":\")\n",
    "        print(\"  Modelstatus: \" + str(mi.model_status))\n",
    "        print(\"  Solvestatus: \" + str(mi.solver_status))\n",
    "        print(\"  Obj: \" + str(mi.sync_db.get_variable(\"z\").find_record().level))\n",
    "        io_lock.release()\n",
    "\n",
    "if __name__ == \"__main__\":\n",
    "    if False:\n",
    "        if len(sys.argv) > 1:\n",
    "            ws = GamsWorkspace(system_directory = sys.argv[1])\n",
    "        else:\n",
    "            ws = GamsWorkspace()\n",
    "        \n",
    "    ws = GamsWorkspace(system_directory = dir_workspace_gams)\n",
    "\n",
    "    cp = ws.add_checkpoint()\n",
    "\n",
    "    # initialize a GAMSCheckpoint by running a GAMSJob\n",
    "    t8 = ws.add_job_from_string(get_model_text())\n",
    "    t8.run(checkpoint=cp)\n",
    "\n",
    "    bmult_list = [ 1.3, 1.2, 1.1, 1.0, 0.9, 0.8, 0.7, 0.6 ]\n",
    "\n",
    "    # solve multiple model instances in parallel\n",
    "    list_lock = threading.Lock()\n",
    "    io_lock = threading.Lock()\n",
    "\n",
    "    # start 2 threads\n",
    "    nr_workers = 2\n",
    "    threads = {}\n",
    "    for i in range(nr_workers):\n",
    "        threads[i] = threading.Thread(target = scen_solve, args = (ws, cp, bmult_list, list_lock, io_lock))\n",
    "        threads[i].start()\n",
    "    for i in range(nr_workers):\n",
    "        threads[i].join()\n",
    "\n",
    "\n",
    "\n"
   ]
  },
  {
   "cell_type": "code",
   "execution_count": 17,
   "metadata": {},
   "outputs": [
    {
     "data": {
      "text/plain": [
       "<gams.workspace.GamsWorkspace at 0x11801b908>"
      ]
     },
     "execution_count": 17,
     "metadata": {},
     "output_type": "execute_result"
    }
   ],
   "source": [
    "GamsWorkspace(system_directory = dir_workspace_gams)"
   ]
  },
  {
   "cell_type": "code",
   "execution_count": null,
   "metadata": {},
   "outputs": [],
   "source": []
  },
  {
   "cell_type": "code",
   "execution_count": null,
   "metadata": {},
   "outputs": [],
   "source": []
  },
  {
   "cell_type": "code",
   "execution_count": null,
   "metadata": {},
   "outputs": [],
   "source": []
  },
  {
   "cell_type": "code",
   "execution_count": null,
   "metadata": {},
   "outputs": [],
   "source": []
  },
  {
   "cell_type": "code",
   "execution_count": null,
   "metadata": {},
   "outputs": [],
   "source": []
  },
  {
   "cell_type": "code",
   "execution_count": null,
   "metadata": {},
   "outputs": [],
   "source": []
  },
  {
   "cell_type": "code",
   "execution_count": null,
   "metadata": {},
   "outputs": [],
   "source": []
  }
 ],
 "metadata": {
  "kernelspec": {
   "display_name": "Python 3",
   "language": "python",
   "name": "python3"
  },
  "language_info": {
   "codemirror_mode": {
    "name": "ipython",
    "version": 3
   },
   "file_extension": ".py",
   "mimetype": "text/x-python",
   "name": "python",
   "nbconvert_exporter": "python",
   "pygments_lexer": "ipython3",
   "version": "3.7.3"
  }
 },
 "nbformat": 4,
 "nbformat_minor": 4
}
